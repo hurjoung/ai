{
 "cells": [
  {
   "cell_type": "code",
   "execution_count": 5,
   "id": "d62b9589",
   "metadata": {},
   "outputs": [
    {
     "data": {
      "text/html": [
       "\n",
       "<style>\n",
       "div.container{width:90% !important;}\n",
       "div.cell.code_cell.rendered{width:100%;}\n",
       "div.input_prompt{padding:0px;}\n",
       "div.CodeMirror {font-family:Consolas; font-size:12pt;}\n",
       "div.text_cell_render.rendered_html{font-size:12pt;}\n",
       "div.output {font-size:12pt; font-weight:bold;}\n",
       "div.input {font-family:Consolas; font-size:12pt;}\n",
       "div.prompt {min-width:70px;}\n",
       "div#toc-wrapper{padding-top:120px;}\n",
       "div.text_cell_render ul li{font-size:12pt;padding:5px;}\n",
       "table.dataframe{font-size:12px;}\n",
       "</style>\n"
      ],
      "text/plain": [
       "<IPython.core.display.HTML object>"
      ]
     },
     "metadata": {},
     "output_type": "display_data"
    }
   ],
   "source": [
    "from IPython.display import display, HTML\n",
    "display(HTML(\"\"\"\n",
    "<style>\n",
    "div.container{width:90% !important;}\n",
    "div.cell.code_cell.rendered{width:100%;}\n",
    "div.input_prompt{padding:0px;}\n",
    "div.CodeMirror {font-family:Consolas; font-size:12pt;}\n",
    "div.text_cell_render.rendered_html{font-size:12pt;}\n",
    "div.output {font-size:12pt; font-weight:bold;}\n",
    "div.input {font-family:Consolas; font-size:12pt;}\n",
    "div.prompt {min-width:70px;}\n",
    "div#toc-wrapper{padding-top:120px;}\n",
    "div.text_cell_render ul li{font-size:12pt;padding:5px;}\n",
    "table.dataframe{font-size:12px;}\n",
    "</style>\n",
    "\"\"\"))"
   ]
  },
  {
   "cell_type": "markdown",
   "id": "7f7eec31",
   "metadata": {},
   "source": [
    "<b><font size=\"6\" color=\"red\">ch02. 자료형과 연산자</font></b>\n",
    "# 1절. 변수\n",
    "- 변수 : 메모리 공가\n",
    "- 파이썬은 변수 선언을 위한 타입이 없고, 별도의 선언 과정도 없음\n",
    "## 1.1 변수 할당\n",
    "- 할당연산자(=)를 이용해서 값을 할당하면 자료형(타입)이 세팅\n",
    "- ** 파이썬에서의 모든 변수는 객체로 저장 **"
   ]
  },
  {
   "cell_type": "code",
   "execution_count": 20,
   "id": "9467ffff",
   "metadata": {},
   "outputs": [
    {
     "name": "stdout",
     "output_type": "stream",
     "text": [
      "넓이: 78.5\n"
     ]
    }
   ],
   "source": [
    "r=5\n",
    "area = 3.14*r*r\n",
    "print('넓이:',area)"
   ]
  },
  {
   "cell_type": "code",
   "execution_count": 23,
   "id": "d3d51911",
   "metadata": {},
   "outputs": [
    {
     "name": "stdout",
     "output_type": "stream",
     "text": [
      "넓이: 78.53981633974483\n"
     ]
    }
   ],
   "source": [
    "import numpy as np\n",
    "area = np.pi * r * r\n",
    "print('넓이:',area)"
   ]
  },
  {
   "cell_type": "code",
   "execution_count": 27,
   "id": "e1fded4a",
   "metadata": {},
   "outputs": [
    {
     "name": "stdout",
     "output_type": "stream",
     "text": [
      "area의 주소: 1553193676528\n",
      "area의 타입: <class 'float'>\n"
     ]
    }
   ],
   "source": [
    "print('area의 주소:', id(area))\n",
    "print('area의 타입:', type(area))"
   ]
  },
  {
   "cell_type": "code",
   "execution_count": 28,
   "id": "35f7968b",
   "metadata": {},
   "outputs": [
    {
     "data": {
      "text/plain": [
       "False"
      ]
     },
     "execution_count": 28,
     "metadata": {},
     "output_type": "execute_result"
    }
   ],
   "source": [
    "area.is_integer()"
   ]
  },
  {
   "cell_type": "code",
   "execution_count": 29,
   "id": "dfd8a360",
   "metadata": {},
   "outputs": [
    {
     "name": "stdout",
     "output_type": "stream",
     "text": [
      "area의 주소: 1553192649232\n",
      "area의 타입: <class 'int'>\n"
     ]
    }
   ],
   "source": [
    "area = 10\n",
    "print('area의 주소:', id(area))\n",
    "print('area의 타입:', type(area))"
   ]
  },
  {
   "cell_type": "code",
   "execution_count": 30,
   "id": "8d497b70",
   "metadata": {},
   "outputs": [
    {
     "name": "stdout",
     "output_type": "stream",
     "text": [
      "area의 주소: 1553308764944\n",
      "area의 타입: <class 'str'>\n"
     ]
    }
   ],
   "source": [
    "area = '파이썬'\n",
    "print('area의 주소:', id(area))\n",
    "print('area의 타입:', type(area))"
   ]
  },
  {
   "cell_type": "markdown",
   "id": "2de21392",
   "metadata": {},
   "source": [
    "## 1.2 변수(함수) 이름 규칙\n",
    "- 문자로 시작\n",
    "- 문자(특수문자는 _만 가능), 숫자, _로 변수명 작성\n",
    "- 함수명은 변수명으로 가능하나 피한다.\n",
    "- 파이썬 예약어는 변수명 사용 불가\n",
    "- 한글 변수 사용마라."
   ]
  },
  {
   "cell_type": "code",
   "execution_count": 35,
   "id": "70454f23",
   "metadata": {},
   "outputs": [
    {
     "name": "stdout",
     "output_type": "stream",
     "text": [
      "<class 'complex'>\n"
     ]
    }
   ],
   "source": [
    "#숫자 : 정수, 실수, 복소수\n",
    "i = 1 +3j\n",
    "print(type(i))"
   ]
  },
  {
   "cell_type": "code",
   "execution_count": 36,
   "id": "b9915cec",
   "metadata": {},
   "outputs": [
    {
     "data": {
      "text/plain": [
       "True"
      ]
     },
     "execution_count": 36,
     "metadata": {},
     "output_type": "execute_result"
    }
   ],
   "source": [
    "isinstance(i, complex)"
   ]
  },
  {
   "cell_type": "code",
   "execution_count": 37,
   "id": "84b5ed67",
   "metadata": {},
   "outputs": [
    {
     "data": {
      "text/plain": [
       "False"
      ]
     },
     "execution_count": 37,
     "metadata": {},
     "output_type": "execute_result"
    }
   ],
   "source": [
    "isinstance(i, int)"
   ]
  },
  {
   "cell_type": "markdown",
   "id": "1b5c906a",
   "metadata": {},
   "source": [
    "## 1.3 다중 변수 선언"
   ]
  },
  {
   "cell_type": "code",
   "execution_count": 38,
   "id": "592b92f8",
   "metadata": {},
   "outputs": [
    {
     "name": "stdout",
     "output_type": "stream",
     "text": [
      "10 20\n"
     ]
    }
   ],
   "source": [
    "a, b = 10, 20\n",
    "print(a, b)"
   ]
  },
  {
   "cell_type": "code",
   "execution_count": 42,
   "id": "76a3fdb1",
   "metadata": {},
   "outputs": [
    {
     "name": "stdout",
     "output_type": "stream",
     "text": [
      "80 130\n"
     ]
    }
   ],
   "source": [
    "a, b = b, a+b #다중 변수 할당시 순차적 할당이 아니고, 일괄 동시 할당\n",
    "print(a, b)"
   ]
  },
  {
   "cell_type": "markdown",
   "id": "452038ad",
   "metadata": {},
   "source": [
    "## 1.4 도움말"
   ]
  },
  {
   "cell_type": "code",
   "execution_count": 43,
   "id": "a971c3f4",
   "metadata": {},
   "outputs": [
    {
     "name": "stdout",
     "output_type": "stream",
     "text": [
      "Help on built-in function print in module builtins:\n",
      "\n",
      "print(...)\n",
      "    print(value, ..., sep=' ', end='\\n', file=sys.stdout, flush=False)\n",
      "    \n",
      "    Prints the values to a stream, or to sys.stdout by default.\n",
      "    Optional keyword arguments:\n",
      "    file:  a file-like object (stream); defaults to the current sys.stdout.\n",
      "    sep:   string inserted between values, default a space.\n",
      "    end:   string appended after the last value, default a newline.\n",
      "    flush: whether to forcibly flush the stream.\n",
      "\n"
     ]
    }
   ],
   "source": [
    "help(print)"
   ]
  },
  {
   "cell_type": "code",
   "execution_count": 12,
   "id": "7227339c",
   "metadata": {},
   "outputs": [
    {
     "name": "stdout",
     "output_type": "stream",
     "text": [
      "\n",
      "Welcome to Python 3.10's help utility!\n",
      "\n",
      "If this is your first time using Python, you should definitely check out\n",
      "the tutorial on the internet at https://docs.python.org/3.10/tutorial/.\n",
      "\n",
      "Enter the name of any module, keyword, or topic to get help on writing\n",
      "Python programs and using Python modules.  To quit this help utility and\n",
      "return to the interpreter, just type \"quit\".\n",
      "\n",
      "To get a list of available modules, keywords, symbols, or topics, type\n",
      "\"modules\", \"keywords\", \"symbols\", or \"topics\".  Each module also comes\n",
      "with a one-line summary of what it does; to list the modules whose name\n",
      "or summary contain a given string such as \"spam\", type \"modules spam\".\n",
      "\n",
      "help> \n",
      "\n",
      "You are now leaving help and returning to the Python interpreter.\n",
      "If you want to ask for help on a particular object directly from the\n",
      "interpreter, you can type \"help(object)\".  Executing \"help('string')\"\n",
      "has the same effect as typing a particular string at the help> prompt.\n"
     ]
    }
   ],
   "source": [
    "help()"
   ]
  },
  {
   "cell_type": "code",
   "execution_count": 13,
   "id": "406cdf7c",
   "metadata": {},
   "outputs": [
    {
     "name": "stdout",
     "output_type": "stream",
     "text": [
      "\n"
     ]
    }
   ],
   "source": [
    "# 도움말 기능 : shift + tab키\n",
    "print()"
   ]
  },
  {
   "cell_type": "code",
   "execution_count": 1,
   "id": "69ea5db2",
   "metadata": {},
   "outputs": [],
   "source": [
    "def add(x, y=0):\n",
    "    '''\n",
    "    매개변수(x,y) 2개를 받아 두자리 숫자로 만드는 함수\n",
    "    x=10의 자리수가 되고\n",
    "    y = 1의자리수가 됨(default 0)\n",
    "    '''\n",
    "    return x*10 + y"
   ]
  },
  {
   "cell_type": "code",
   "execution_count": 2,
   "id": "adee22fe",
   "metadata": {},
   "outputs": [
    {
     "data": {
      "text/plain": [
       "34"
      ]
     },
     "execution_count": 2,
     "metadata": {},
     "output_type": "execute_result"
    }
   ],
   "source": [
    "add(3,4)"
   ]
  },
  {
   "cell_type": "markdown",
   "id": "f540325b",
   "metadata": {},
   "source": [
    "# 2절. 화면io"
   ]
  },
  {
   "cell_type": "code",
   "execution_count": 3,
   "id": "ed1d5300",
   "metadata": {},
   "outputs": [
    {
     "name": "stdout",
     "output_type": "stream",
     "text": [
      "3\n",
      "3\n"
     ]
    }
   ],
   "source": [
    "#input() : 사용자로부터 값을 입력받기 위함 함수. 입력값은 문자(str)로 받음.\n",
    "first = input()\n",
    "print(first)"
   ]
  },
  {
   "cell_type": "code",
   "execution_count": 5,
   "id": "397a4ac3",
   "metadata": {},
   "outputs": [
    {
     "name": "stdout",
     "output_type": "stream",
     "text": [
      "첫번째 숫자는?3\n",
      "두번째 숫자는?4\n",
      "3 4\n"
     ]
    }
   ],
   "source": [
    "first = input('첫번째 숫자는?')\n",
    "second = input('두번째 숫자는?')\n",
    "print( first , second)"
   ]
  },
  {
   "cell_type": "code",
   "execution_count": 11,
   "id": "e9bcd6c1",
   "metadata": {},
   "outputs": [
    {
     "name": "stdout",
     "output_type": "stream",
     "text": [
      "첫번째 숫자는?3\n",
      "두번째 숫자는?7\n",
      "3 7 37\n"
     ]
    }
   ],
   "source": [
    "first = input('첫번째 숫자는?')\n",
    "second = input('두번째 숫자는?')\n",
    "print( int(first) , int(second), add(int(first) , int(second)))"
   ]
  },
  {
   "cell_type": "code",
   "execution_count": 7,
   "id": "972ba67e",
   "metadata": {},
   "outputs": [
    {
     "name": "stdout",
     "output_type": "stream",
     "text": [
      "first/3/second/4end\n"
     ]
    }
   ],
   "source": [
    "print( 'first', first , 'second', second, sep='/', end ='end\\n')"
   ]
  },
  {
   "cell_type": "markdown",
   "id": "85d972d3",
   "metadata": {},
   "source": [
    "# 3절. 기본 자료형\n",
    "- 자료형 : 변수가 가져야할 값의 형식. 자료형에 따라 값의 크기와 저장 방식 달라짐.\n",
    "- 자료형에 따라 수행할 수 있는 명령어들이 다름.\n",
    "    * `숫자` : int, float, complex\n",
    "    * `문자` : str\n",
    "    * `논리` : bool(true/false)"
   ]
  },
  {
   "cell_type": "markdown",
   "id": "a2a17ca0",
   "metadata": {},
   "source": [
    "## 3.1 숫자형"
   ]
  },
  {
   "cell_type": "code",
   "execution_count": 15,
   "id": "9ef67eca",
   "metadata": {},
   "outputs": [
    {
     "name": "stdout",
     "output_type": "stream",
     "text": [
      "9223372036854775807\n"
     ]
    }
   ],
   "source": [
    "import sys\n",
    "print(sys.maxsize) #정수의 최대값 : 2**63 -1"
   ]
  },
  {
   "cell_type": "code",
   "execution_count": 18,
   "id": "f85244bc",
   "metadata": {},
   "outputs": [
    {
     "name": "stdout",
     "output_type": "stream",
     "text": [
      "1.2e-20\n",
      "1.2e+20\n"
     ]
    }
   ],
   "source": [
    "f = 1.2e-20\n",
    "print(f)\n",
    "b=1.2e20\n",
    "print(b)"
   ]
  },
  {
   "cell_type": "code",
   "execution_count": 20,
   "id": "8130ae06",
   "metadata": {},
   "outputs": [
    {
     "name": "stdout",
     "output_type": "stream",
     "text": [
      "f= 1.5\n",
      "f= 1\n"
     ]
    }
   ],
   "source": [
    "#파이썬에서는 /의 결과는 모조건 실수\n",
    "f = 3/2\n",
    "print('f=',f)\n",
    "f = 3//2\n",
    "print('f=',f)"
   ]
  },
  {
   "cell_type": "markdown",
   "id": "00335367",
   "metadata": {},
   "source": [
    "## 3.2 문자형"
   ]
  },
  {
   "cell_type": "code",
   "execution_count": 24,
   "id": "117ea48d",
   "metadata": {},
   "outputs": [
    {
     "name": "stdout",
     "output_type": "stream",
     "text": [
      "홍길동'짱'\n",
      "홍길동'짱'\n"
     ]
    }
   ],
   "source": [
    "name = '홍길동\\'짱\\''\n",
    "print(name)\n",
    "name = \"홍길동'짱'\"\n",
    "print(name)"
   ]
  },
  {
   "cell_type": "code",
   "execution_count": 27,
   "id": "b0b5f2a2",
   "metadata": {},
   "outputs": [
    {
     "name": "stdout",
     "output_type": "stream",
     "text": [
      "여러줄\t짜리 내용을 저장\n",
      " 줄바꿈 문자를 쓰면 됨\n",
      " 줄바꿈\n",
      "여러줄\t짜리 내용을 저장\n",
      "줄바꿈 문자를 쓰면 됨\n",
      "줄바꿈\n"
     ]
    }
   ],
   "source": [
    "text = \"여러줄\\t짜리 내용을 저장\\n 줄바꿈 문자를 쓰면 됨\\n 줄바꿈\"\n",
    "print(text)\n",
    "\n",
    "text = '''여러줄\\t짜리 내용을 저장\n",
    "줄바꿈 문자를 쓰면 됨\n",
    "줄바꿈'''\n",
    "print(text)"
   ]
  },
  {
   "cell_type": "markdown",
   "id": "cc1f535a",
   "metadata": {},
   "source": [
    "###  문자열 연산(+,*)"
   ]
  },
  {
   "cell_type": "code",
   "execution_count": 29,
   "id": "194cb636",
   "metadata": {},
   "outputs": [
    {
     "name": "stdout",
     "output_type": "stream",
     "text": [
      "홍길동동해번쩍\n",
      "홍길동 동해번쩍\n",
      "홍길동홍길동홍길동\n"
     ]
    }
   ],
   "source": [
    "name1 = '홍길동'\n",
    "name2 = '동해번쩍'\n",
    "print(name1+ name2)\n",
    "print(name1, name2)\n",
    "print(name1*3)"
   ]
  },
  {
   "cell_type": "markdown",
   "id": "e2e13f04",
   "metadata": {},
   "source": [
    "### raw 데이터\n",
    " - 용도 : 정규표현식 이용, 디렉토리 경로 표시"
   ]
  },
  {
   "cell_type": "code",
   "execution_count": 30,
   "id": "e7368434",
   "metadata": {},
   "outputs": [
    {
     "name": "stdout",
     "output_type": "stream",
     "text": [
      "hello\\n world\n"
     ]
    }
   ],
   "source": [
    "print(r'hello\\n world')"
   ]
  },
  {
   "cell_type": "markdown",
   "id": "e8639b2e",
   "metadata": {},
   "source": [
    "### 정규표현식(regex)\n",
    "\n",
    "    1. 참조 : 위키백과\n",
    "    \n",
    "    2. 간략문법\n",
    "    \n",
    "    \\d (숫자와 매치, [0-9]와 동일)    \n",
    "    \\D 숫자가 아닌것    \n",
    "    \\w 영문자나 숫자    \n",
    "    \\W 영문자나 숫자가 아님    \n",
    "    . (문자)    \n",
    "    \\. (.)    \n",
    "    \\- (-)    \n",
    "    {2, } 2번이상 반복    \n",
    "    {2, 4} 2번-4번 반복    \n",
    "    ? 0번이나 1번    \n",
    "    + 1번이상 반복    \n",
    "    * 0번이상 반복\n",
    "    \n",
    "    3. 정규표현식 연습장    \n",
    "    ex1. 전화번호 : 02 999 9999 029991234 010-9999-9999 010.123.1111 02)999-9999    \n",
    "    \\d{2,3}[ \\)\\.\\-]?\\d{3,4}[ \\.\\-]?\\d{4}    \n",
    "    ex2. 이메일 : abc12@naver.com abc12@sns.co.kr    \n",
    "    \\w+@\\w+(\\.\\w+){1,2}    \n",
    "    ex3. 주민번호 : 980101-12345678    \n",
    "    \\d{2}(0[1-9]|1[0-2])(0[1-9]|[12]\\d|30|31)-[1-4]\\d{6}\n"
   ]
  },
  {
   "cell_type": "code",
   "execution_count": 3,
   "id": "fcc91ba3",
   "metadata": {},
   "outputs": [
    {
     "name": "stdout",
     "output_type": "stream",
     "text": [
      "이름:홍길동, 주소:서울, 전화:02-888-8888, 핸드폰:010-9999-9999, 특징:동해번쩍 서해번쩍혈액형:Bㅋㅋ ㅋㅋzz\n"
     ]
    }
   ],
   "source": [
    "import re\n",
    "data = \"이름:홍길동, 주소:서울, 전화:02-888-8888, \\\n",
    "핸드폰:010-9999-9999, 특징:동해번쩍 서해번쩍\\\n",
    "혈액형:Bㅋㅋ ㅋㅋzz\"\n",
    "print(data)"
   ]
  },
  {
   "cell_type": "code",
   "execution_count": 34,
   "id": "13f031ce",
   "metadata": {},
   "outputs": [
    {
     "data": {
      "text/plain": [
       "['02-888-8888', '010-9999-9999']"
      ]
     },
     "execution_count": 34,
     "metadata": {},
     "output_type": "execute_result"
    }
   ],
   "source": [
    "tel_pattern = r\"\\d{2,3}[ \\)\\.\\-]?\\d{3,4}[ \\.\\-]?\\d{4}\"\n",
    "tels = re.findall(tel_pattern, data)\n",
    "tels"
   ]
  },
  {
   "cell_type": "code",
   "execution_count": 35,
   "id": "17edcc68",
   "metadata": {},
   "outputs": [
    {
     "data": {
      "text/plain": [
       "[]"
      ]
     },
     "execution_count": 35,
     "metadata": {},
     "output_type": "execute_result"
    }
   ],
   "source": [
    "email_pattern = r\"\\w+@\\w+(\\.\\w+){1,2}\"\n",
    "emails = re.findall(email_pattern, data)\n",
    "emails"
   ]
  },
  {
   "cell_type": "code",
   "execution_count": 36,
   "id": "b19b5b43",
   "metadata": {},
   "outputs": [
    {
     "data": {
      "text/plain": [
       "<re.Match object; span=(18, 29), match='02-888-8888'>"
      ]
     },
     "execution_count": 36,
     "metadata": {},
     "output_type": "execute_result"
    }
   ],
   "source": [
    "firstTel = re.search(tel_pattern, data)\n",
    "firstTel"
   ]
  },
  {
   "cell_type": "code",
   "execution_count": 37,
   "id": "c731b03c",
   "metadata": {},
   "outputs": [
    {
     "data": {
      "text/plain": [
       "<re.Match object; span=(18, 29), match='02-888-8888'>"
      ]
     },
     "execution_count": 37,
     "metadata": {},
     "output_type": "execute_result"
    }
   ],
   "source": [
    "tel_pattern = r\"(\\d{2,3})-(\\d{3,4})-(\\d{4})\"\n",
    "firstPhone = re.search(tel_pattern, data)\n",
    "firstPhone"
   ]
  },
  {
   "cell_type": "code",
   "execution_count": 39,
   "id": "e1334ae9",
   "metadata": {},
   "outputs": [
    {
     "name": "stdout",
     "output_type": "stream",
     "text": [
      "전체 전화번호: 02-888-8888\n",
      "국번: 02\n",
      "중간 전화번호: 888\n",
      "끝 전화번호: 8888\n"
     ]
    }
   ],
   "source": [
    "print('전체 전화번호:', firstPhone.group(0))\n",
    "print('국번:', firstPhone.group(1))\n",
    "print('중간 전화번호:', firstPhone.group(2))\n",
    "print('끝 전화번호:', firstPhone.group(3))"
   ]
  },
  {
   "cell_type": "code",
   "execution_count": 8,
   "id": "bc2e78c7",
   "metadata": {},
   "outputs": [
    {
     "name": "stdout",
     "output_type": "stream",
     "text": [
      "이름:홍길동, 주소:서울, 전화:02-888-8888, 핸드폰:010-9999-9999, 특징:동해번쩍 서해번쩍혈액형:Bㅋㅋ ㅋㅋzz\n",
      "이름:홍길동, 주소:서울, 전화:02-888-8888, 핸드폰:010-9999-9999, 특징:동해번쩍 서해번쩍혈액형:Bㅋㅋ ㅋㅋzz\n"
     ]
    }
   ],
   "source": [
    "# data에서 특정한 데이터 제외\n",
    "print(data)\n",
    "re.sub(\"[^가-힣0-9A-Z\\s]\", ' ', data)\n",
    "print(data)"
   ]
  },
  {
   "cell_type": "code",
   "execution_count": 12,
   "id": "381e2147",
   "metadata": {},
   "outputs": [],
   "source": [
    "#파일경로\n",
    "file_path = r\"C:\\ai\\source\\01_python\\data\\ch02.txt\""
   ]
  },
  {
   "cell_type": "code",
   "execution_count": 13,
   "id": "092574ae",
   "metadata": {},
   "outputs": [
    {
     "name": "stdout",
     "output_type": "stream",
     "text": [
      "hello python.\n",
      "hello world.\n"
     ]
    }
   ],
   "source": [
    "file_stream = open(file_path, \"w\")\n",
    "print(\"hello python.\",\"hello world.\", sep=\"\\n\") #화면 출력\n",
    "print(\"hello python.\",\"hello world.\", sep=\"\\n\", file=file_stream) #파일 출력\n",
    "file_stream.close() #연결 종료"
   ]
  },
  {
   "cell_type": "markdown",
   "id": "78992a39",
   "metadata": {},
   "source": [
    "### ※ 문자열 인덱싱"
   ]
  },
  {
   "cell_type": "code",
   "execution_count": 14,
   "id": "2759b2ce",
   "metadata": {},
   "outputs": [],
   "source": [
    "str_ = \"0123456789\""
   ]
  },
  {
   "cell_type": "code",
   "execution_count": 17,
   "id": "1d23dc55",
   "metadata": {},
   "outputs": [
    {
     "data": {
      "text/plain": [
       "('0', '2', '9', '7')"
      ]
     },
     "execution_count": 17,
     "metadata": {},
     "output_type": "execute_result"
    }
   ],
   "source": [
    "str_[0], str_[2], str_[-1], str_[-3] # 음수 인텍싱은 맨 마지막이 -1"
   ]
  },
  {
   "cell_type": "code",
   "execution_count": 18,
   "id": "6e016e98",
   "metadata": {},
   "outputs": [
    {
     "ename": "IndexError",
     "evalue": "string index out of range",
     "output_type": "error",
     "traceback": [
      "\u001b[1;31m---------------------------------------------------------------------------\u001b[0m",
      "\u001b[1;31mIndexError\u001b[0m                                Traceback (most recent call last)",
      "Cell \u001b[1;32mIn[18], line 1\u001b[0m\n\u001b[1;32m----> 1\u001b[0m \u001b[43mstr_\u001b[49m\u001b[43m[\u001b[49m\u001b[38;5;241;43m10\u001b[39;49m\u001b[43m]\u001b[49m\n",
      "\u001b[1;31mIndexError\u001b[0m: string index out of range"
     ]
    }
   ],
   "source": [
    "str_[10] # 없으면 오류"
   ]
  },
  {
   "cell_type": "markdown",
   "id": "905f98ea",
   "metadata": {},
   "source": [
    "### ※ 문자열 슬라이싱"
   ]
  },
  {
   "cell_type": "code",
   "execution_count": null,
   "id": "b5e5e023",
   "metadata": {},
   "outputs": [],
   "source": [
    "'''\n",
    "문자열변수[from:to] : from부터 to앞까지 추출\n",
    "문자열변수[from:to:step] : from부터 to앞까지 step씩 전진하면서 추출\n",
    "    from 생략시 처음\n",
    "    to   생략시 끝\n",
    "    step 생략시 1\n",
    "'''"
   ]
  },
  {
   "cell_type": "code",
   "execution_count": 24,
   "id": "627dd126",
   "metadata": {},
   "outputs": [
    {
     "data": {
      "text/plain": [
       "('012', '56789', '5678', '02468', '987654321')"
      ]
     },
     "execution_count": 24,
     "metadata": {},
     "output_type": "execute_result"
    }
   ],
   "source": [
    "str_[0:3], str_[5:], str_[-5:-1], str_[0:10:2], str_[9:0:-1]"
   ]
  },
  {
   "cell_type": "code",
   "execution_count": 26,
   "id": "ea451dc3",
   "metadata": {},
   "outputs": [
    {
     "name": "stdout",
     "output_type": "stream",
     "text": [
      "9876543210\n",
      "9876543210\n",
      "9876543210\n"
     ]
    }
   ],
   "source": [
    "print(str_[::-1])\n",
    "print(str_[9::-1])\n",
    "print(str_[-1::-1])"
   ]
  },
  {
   "cell_type": "markdown",
   "id": "1974d643",
   "metadata": {},
   "source": [
    "## 3.3 논리형(True/False)"
   ]
  },
  {
   "cell_type": "code",
   "execution_count": 28,
   "id": "776484e4",
   "metadata": {},
   "outputs": [
    {
     "name": "stdout",
     "output_type": "stream",
     "text": [
      "True\n",
      "<class 'bool'>\n",
      "True\n"
     ]
    }
   ],
   "source": [
    "a=10>5\n",
    "print(a)\n",
    "print(type(a))\n",
    "print(isinstance(a, bool))"
   ]
  },
  {
   "cell_type": "code",
   "execution_count": 29,
   "id": "b20f2a18",
   "metadata": {},
   "outputs": [
    {
     "data": {
      "text/plain": [
       "(1, 0)"
      ]
     },
     "execution_count": 29,
     "metadata": {},
     "output_type": "execute_result"
    }
   ],
   "source": [
    "int(True), int(False)"
   ]
  },
  {
   "cell_type": "code",
   "execution_count": 37,
   "id": "0cc1f788",
   "metadata": {},
   "outputs": [
    {
     "data": {
      "text/plain": [
       "(True, False, True, True, False, True, True)"
      ]
     },
     "execution_count": 37,
     "metadata": {},
     "output_type": "execute_result"
    }
   ],
   "source": [
    "#False로 간주되는것 : 0, '', [], (), {}, None\n",
    "#False로 판별되는 경우를 제외하고 모두 True\n",
    "bool(1), bool(0), bool(100), bool(-100), bool(\"\"), bool('홍길동'), bool(' ')"
   ]
  },
  {
   "cell_type": "code",
   "execution_count": 35,
   "id": "85e311c6",
   "metadata": {},
   "outputs": [
    {
     "name": "stdout",
     "output_type": "stream",
     "text": [
      "이름은?이이이\n",
      "당신 이름은 이이이\n"
     ]
    }
   ],
   "source": [
    "name = input('이름은?')\n",
    "if name:\n",
    "    print('당신 이름은', name)\n",
    "else:\n",
    "    print('이름 입력을 안함')"
   ]
  },
  {
   "cell_type": "markdown",
   "id": "12d918dd",
   "metadata": {},
   "source": [
    "## 3.4 자료형 확인 및 형변환 함수\n",
    " - type(변수)\n",
    " - isinstance(변수, 타입) : 변수가 해당 타입인지 여부\n",
    " - float() : 실수형으로 변환\n",
    " - int()   : 정수형으로 변환\n",
    " - str()   : 문자형으로 변환\n",
    " - bool()  : 논리형으로 변환"
   ]
  },
  {
   "cell_type": "code",
   "execution_count": 36,
   "id": "d7f5e2fe",
   "metadata": {},
   "outputs": [
    {
     "data": {
      "text/plain": [
       "(4.0, 4.1, 4)"
      ]
     },
     "execution_count": 36,
     "metadata": {},
     "output_type": "execute_result"
    }
   ],
   "source": [
    "float(4), float('4.1'), int(4.9)"
   ]
  },
  {
   "cell_type": "code",
   "execution_count": 38,
   "id": "bafe631d",
   "metadata": {},
   "outputs": [],
   "source": [
    "# 에러나는 경우들\n",
    "#int(\"\"), int(\" \"), int(None), int(\"123.9\"), int(\"5,000\")\n",
    "# float(\"\"), float(\" \"), float(None)"
   ]
  },
  {
   "cell_type": "markdown",
   "id": "7dd6b655",
   "metadata": {},
   "source": [
    "# 4절. 포맷팅\n",
    " - 포맷팅이란 출력할 문자, 숫자, 날짜 데이터의 형식을 지정하는 것"
   ]
  },
  {
   "cell_type": "markdown",
   "id": "9cade331",
   "metadata": {},
   "source": [
    "## 4.1 문자열에 형식 지정"
   ]
  },
  {
   "cell_type": "code",
   "execution_count": 39,
   "id": "1de17308",
   "metadata": {},
   "outputs": [
    {
     "name": "stdout",
     "output_type": "stream",
     "text": [
      "홍길동님의 나이는 30살입니다\n",
      "홍길동 님의 나이는  30 살입니다\n"
     ]
    }
   ],
   "source": [
    "name = \"홍길동\"\n",
    "age = 30\n",
    "print(name + '님의 나이는 ' + str(age) + '살입니다')\n",
    "print(name, '님의 나이는 ', age, '살입니다')"
   ]
  },
  {
   "cell_type": "code",
   "execution_count": 40,
   "id": "efb55e61",
   "metadata": {},
   "outputs": [
    {
     "name": "stdout",
     "output_type": "stream",
     "text": [
      "홍길동님의 나이는 30살입니다\n",
      "  홍길동님의 나이는 30살입니다\n"
     ]
    }
   ],
   "source": [
    "# %s:문자, %d:10진수, %f:실수\n",
    "print(\"%s님의 나이는 %d살입니다\"%(name, age))\n",
    "print(f\"{name:>5s}님의 나이는 {age}살입니다\")"
   ]
  },
  {
   "cell_type": "code",
   "execution_count": 41,
   "id": "b2ec7801",
   "metadata": {},
   "outputs": [
    {
     "name": "stdout",
     "output_type": "stream",
     "text": [
      "홍길동님의 나이는 30살입니다\n",
      "홍길동님의 나이는 30살입니다\n",
      "  홍길동님의 나이는 30$살입니다\n"
     ]
    }
   ],
   "source": [
    "print(\"{}님의 나이는 {}살입니다\".format(name, age))\n",
    "print(\"{0}님의 나이는 {1}살입니다\".format(name, age))\n",
    "print(\"{1:>5s}님의 나이는 {0:$<3d}살입니다\".format(age, name))"
   ]
  },
  {
   "cell_type": "markdown",
   "id": "b61b0c82",
   "metadata": {},
   "source": [
    "## 4.2 format() 문법\n",
    "\"{[인덱스]:[공백대체문자][정렬방식][자릿수][타입]}\".format(변수명)\n",
    "* 인덱스 : format 함수안의 매개변수 순서\n",
    "* 정렬방식 : <(왼쪽정렬), >(오른쪽정렬), ^(가운데정렬)\n",
    "* 정수자릿수 : 출력할 자릿수\n",
    "* 실수자릿수 : 전체출력될자리수.변수중에 출력할 자리수\n",
    "* 타입 : d(10진수), o(8진수), x(16진수), b(2진수), f(실수), s(문자)\n",
    "* 공백대체문자는 정렬방식을 명시하여 함"
   ]
  },
  {
   "cell_type": "code",
   "execution_count": 49,
   "id": "d07b7079",
   "metadata": {},
   "outputs": [
    {
     "name": "stdout",
     "output_type": "stream",
     "text": [
      "[12345] [     12345] [12345]\n",
      "[Hello] [Hello     ] [Hello]\n"
     ]
    }
   ],
   "source": [
    "# 숫자의 경우 오른쪽정렬(기본)\n",
    "# 문자의 경우 왼쪽정렬(기본)\n",
    "# 변수보다 작은 자리수는 무시되고 다 출력\n",
    "a = 12345\n",
    "s = 'Hello'\n",
    "print(\"[{0}] [{0:10}] [{0:3}]\".format(a))\n",
    "print(\"[{0}] [{0:10}] [{0:3}]\".format(s))"
   ]
  },
  {
   "cell_type": "code",
   "execution_count": 50,
   "id": "13d82381",
   "metadata": {},
   "outputs": [
    {
     "name": "stdout",
     "output_type": "stream",
     "text": [
      "[10  ] [ 20 ] [   3]\n"
     ]
    }
   ],
   "source": [
    "a, b, c = 10, 20,3\n",
    "print(\"[{:<4}] [{:^4}] [{:>4}]\".format(a,b,c))"
   ]
  },
  {
   "cell_type": "code",
   "execution_count": 53,
   "id": "15f59a37",
   "metadata": {},
   "outputs": [
    {
     "name": "stdout",
     "output_type": "stream",
     "text": [
      "[        10] [12.57] [  He]\n"
     ]
    }
   ],
   "source": [
    "# 공백대체문자를 쓸 경우 정렬방식 필수\n",
    "a, f, s = 10, 12.567, 'Hello'\n",
    "print(\"[{:>10}] [{:3.2f}] [{:>4.2}]\".format(a,f,s))"
   ]
  },
  {
   "cell_type": "code",
   "execution_count": 58,
   "id": "81c6a825",
   "metadata": {},
   "outputs": [
    {
     "name": "stdout",
     "output_type": "stream",
     "text": [
      "[      +123], [      -123], [       123]\n",
      "[       123], [-      123], [       123]\n",
      "[+      123], [-      123], [       123]\n"
     ]
    }
   ],
   "source": [
    "# 자리수 앞에 +를 붙이면 양수에도 부호출력\n",
    "# 부호나 소수점도 자리수에 포함\n",
    "a, b = 123, -123\n",
    "print(\"[{:+10}], [{:+10}], [{:10}]\".format(a,b,a))\n",
    "print(\"[{:=10}], [{:=10}], [{:10}]\".format(a,b,a))\n",
    "print(\"[{:=+10}], [{:=+10}], [{:10}]\".format(a,b,a))"
   ]
  },
  {
   "cell_type": "code",
   "execution_count": 62,
   "id": "d517ae24",
   "metadata": {},
   "outputs": [
    {
     "name": "stdout",
     "output_type": "stream",
     "text": [
      "10진수 [  15]\n",
      "8진수 [  17]\n",
      "16진수 [   f]\n",
      "2진수 [1111]\n"
     ]
    }
   ],
   "source": [
    "# 10진수, 8진수, 16진수, 2진수 출력\n",
    "a=15\n",
    "print(\"10진수 [{:4d}]\".format(a))\n",
    "print(\"8진수 [{:4o}]\".format(a))\n",
    "print(\"16진수 [{:4x}]\".format(a))\n",
    "print(\"2진수 [{:3b}]\".format(a))"
   ]
  },
  {
   "cell_type": "code",
   "execution_count": 65,
   "id": "106511ca",
   "metadata": {},
   "outputs": [
    {
     "name": "stdout",
     "output_type": "stream",
     "text": [
      "[    +2.785]\n",
      "[    +2.785]\n"
     ]
    }
   ],
   "source": [
    "a=2.785\n",
    "sign1 = \"+\"\n",
    "width1 = 10\n",
    "precision1 =4\n",
    "print(\"[{:{}{}.{}}]\".format(a, sign1, width1, precision1))\n",
    "print(\"[{:{sign}{width}.{precision}}]\".format(a, sign=sign1, width=width1, precision=precision1))"
   ]
  },
  {
   "cell_type": "markdown",
   "id": "e1c4c8cc",
   "metadata": {},
   "source": [
    "## 4.3 날짜출력"
   ]
  },
  {
   "cell_type": "code",
   "execution_count": 71,
   "id": "b1ce4a6d",
   "metadata": {},
   "outputs": [
    {
     "name": "stdout",
     "output_type": "stream",
     "text": [
      "2025-09-11 00:00:00\n",
      "2025-09-11 14:30:00\n"
     ]
    }
   ],
   "source": [
    "#import datetime # 모듈 전체를 메모리에 load\n",
    "#datetime.__file__\n",
    "from datetime import datetime # 모듈안의 하나만 load\n",
    "thatday1 = datetime(2025, 9,11)\n",
    "thatday2 = datetime(2025, 9,11, 14, 30, 0)\n",
    "print(thatday1)\n",
    "print(thatday2)"
   ]
  },
  {
   "cell_type": "code",
   "execution_count": 85,
   "id": "0408a14c",
   "metadata": {},
   "outputs": [
    {
     "name": "stdout",
     "output_type": "stream",
     "text": [
      "2025년 09월 11일 AM 12 00분 00초\n"
     ]
    }
   ],
   "source": [
    "# Y(년도4자리) y(년도2자리) m(월) d(일) p(am/pm) I(12시간) H(24시간) M(분) S(초)\n",
    "print(\"{:%Y년 %m월 %d일 %p %I %M분 %S초}\".format(thatday1))"
   ]
  },
  {
   "cell_type": "code",
   "execution_count": 93,
   "id": "923f10dd",
   "metadata": {},
   "outputs": [
    {
     "data": {
      "text/plain": [
       "datetime.timedelta(days=4, seconds=54155, microseconds=764823)"
      ]
     },
     "execution_count": 93,
     "metadata": {},
     "output_type": "execute_result"
    }
   ],
   "source": [
    "# 현재의 날짜와 시간\n",
    "# datetime(2025,9,11, 14, 30) : 특정한 날짜와 시간\n",
    "now = datetime.now() # 지금\n",
    "now - thatday1 # 날짜형 변수끼리 연산 가능"
   ]
  },
  {
   "cell_type": "code",
   "execution_count": 91,
   "id": "f1758a2d",
   "metadata": {},
   "outputs": [
    {
     "name": "stdout",
     "output_type": "stream",
     "text": [
      "2025-09-15 PM 02:55\n",
      "2025-09-15 PM 02:55\n"
     ]
    }
   ],
   "source": [
    "# 지금(날짜와 시간) 원하는 스타일로 출력\n",
    "print(\"{:%Y-%m-%d %p %I:%M}\".format(now))\n",
    "print(now.strftime(\"%Y-%m-%d %p %I:%M\"))"
   ]
  },
  {
   "cell_type": "code",
   "execution_count": 92,
   "id": "a5a9acb4",
   "metadata": {},
   "outputs": [
    {
     "data": {
      "text/plain": [
       "'2025-09-15 PM 03:02'"
      ]
     },
     "execution_count": 92,
     "metadata": {},
     "output_type": "execute_result"
    }
   ],
   "source": [
    "# 지금을 문자열로 전환하는 함수\n",
    "from time import strftime\n",
    "strftime(\"%Y-%m-%d %p %I:%M\")"
   ]
  }
 ],
 "metadata": {
  "kernelspec": {
   "display_name": "Python 3 (ipykernel)",
   "language": "python",
   "name": "python3"
  },
  "language_info": {
   "codemirror_mode": {
    "name": "ipython",
    "version": 3
   },
   "file_extension": ".py",
   "mimetype": "text/x-python",
   "name": "python",
   "nbconvert_exporter": "python",
   "pygments_lexer": "ipython3",
   "version": "3.10.9"
  },
  "toc": {
   "base_numbering": 1,
   "nav_menu": {},
   "number_sections": false,
   "sideBar": true,
   "skip_h1_title": false,
   "title_cell": "Table of Contents",
   "title_sidebar": "Contents",
   "toc_cell": false,
   "toc_position": {
    "height": "calc(100% - 180px)",
    "left": "10px",
    "top": "150px",
    "width": "194.391px"
   },
   "toc_section_display": true,
   "toc_window_display": true
  }
 },
 "nbformat": 4,
 "nbformat_minor": 5
}
