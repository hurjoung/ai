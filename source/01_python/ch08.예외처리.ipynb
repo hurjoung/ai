{
 "cells": [
  {
   "cell_type": "code",
   "execution_count": 1,
   "id": "791fdccb",
   "metadata": {},
   "outputs": [
    {
     "data": {
      "text/html": [
       "\n",
       "<style>\n",
       "div.container{width:90% !important;}\n",
       "div.cell.code_cell.rendered{width:100%;}\n",
       "div.input_prompt{padding:0px;}\n",
       "div.CodeMirror {font-family:Consolas; font-size:12pt;}\n",
       "div.text_cell_render.rendered_html{font-size:12pt;}\n",
       "div.output {font-size:12pt; font-weight:bold;}\n",
       "div.input {font-family:Consolas; font-size:12pt;}\n",
       "div.prompt {min-width:70px;}\n",
       "div#toc-wrapper{padding-top:120px;}\n",
       "div.text_cell_render ul li{font-size:12pt;padding:5px;}\n",
       "table.dataframe{font-size:12px;}\n",
       "</style>\n"
      ],
      "text/plain": [
       "<IPython.core.display.HTML object>"
      ]
     },
     "metadata": {},
     "output_type": "display_data"
    }
   ],
   "source": [
    "from IPython.display import display, HTML\n",
    "display(HTML(\"\"\"\n",
    "<style>\n",
    "div.container{width:90% !important;}\n",
    "div.cell.code_cell.rendered{width:100%;}\n",
    "div.input_prompt{padding:0px;}\n",
    "div.CodeMirror {font-family:Consolas; font-size:12pt;}\n",
    "div.text_cell_render.rendered_html{font-size:12pt;}\n",
    "div.output {font-size:12pt; font-weight:bold;}\n",
    "div.input {font-family:Consolas; font-size:12pt;}\n",
    "div.prompt {min-width:70px;}\n",
    "div#toc-wrapper{padding-top:120px;}\n",
    "div.text_cell_render ul li{font-size:12pt;padding:5px;}\n",
    "table.dataframe{font-size:12px;}\n",
    "</style>\n",
    "\"\"\"))"
   ]
  },
  {
   "cell_type": "markdown",
   "id": "cf160b8a",
   "metadata": {},
   "source": [
    "<b><font size=\"6\" color=\"red\">ch08. 예외처리</font></b>\n",
    " ```\n",
    " - 에러\n",
    "  (1) 문법에러 : 문법적으로 나타나는 에러(프로그램 수정)\n",
    "  (2) 실행에러(실행시 에러)\n",
    "    * 시스템 에러 : 프로그래머의 의지와 상관없는 에러\n",
    "    * 예외 : 정상적인 프로그램에서 나타나는 에러(MILD한 에러)\n",
    "```    \n",
    "# 1절 예외처리 필요성\n",
    " - 예외가 날 가능성이 있는 부분에 대해 미리 예상하고 처리하는 프로그래밍(필요한 이유 : 안정적인 시스템)\n",
    " ```\n",
    " ex. 파일을 다룰 때, 파일이 없거나, 쓰기금지, 파일 인코딩방법에 인한 오류\n",
    " ex. 데이터베이스 프로그래밍 시 제약조건 등에 의한 CRUD 명령 수행 오류. DBMS 서버 오류\n",
    " ex. 네트워크 프로그래밍 시 네트워크 연결 오류\n",
    " ex. 리스트나 튜플의 인덱스를 벗어난 참조에 의한 오류\n",
    " ```"
   ]
  },
  {
   "cell_type": "code",
   "execution_count": 2,
   "id": "e260c92d",
   "metadata": {},
   "outputs": [
    {
     "name": "stdout",
     "output_type": "stream",
     "text": [
      "파일명은 ?ch08.txt\n"
     ]
    },
    {
     "data": {
      "text/plain": [
       "'Hellow\\nPython'"
      ]
     },
     "execution_count": 2,
     "metadata": {},
     "output_type": "execute_result"
    }
   ],
   "source": [
    "# 파일명(ch08.txt, ch02.txt)은 사용자에게 입력받아 해당 파일 내용을 출력\n",
    "filename = input('파일명은 ?')\n",
    "f = open('data/' + filename, 'r') # 파일을 연다(스트림객체 생성)\n",
    "f.read()"
   ]
  },
  {
   "cell_type": "code",
   "execution_count": 3,
   "id": "ded7a6ef",
   "metadata": {},
   "outputs": [],
   "source": [
    "f.close()"
   ]
  },
  {
   "cell_type": "code",
   "execution_count": null,
   "id": "8f43c346",
   "metadata": {},
   "outputs": [],
   "source": [
    "# 예외발생 : 파일이 잘못 되었을 경우\n",
    "filename = input('파일명은 ?')\n",
    "f = open('data/' + filename, 'r') # 파일을 연다(스트림객체 생성)\n",
    "print(f.read())\n",
    "f.close()"
   ]
  },
  {
   "cell_type": "code",
   "execution_count": null,
   "id": "0325ea45",
   "metadata": {},
   "outputs": [],
   "source": [
    "# 예외발생 : 인코딩방식 에러\n",
    "# 한글인코딩 방법 :\n",
    "# 한글완성형(euc-kr < cp949) : 한글 1만1172자 중 2,850자만 코드표현법\n",
    "# 한글조합형(utf-8) : ch08.txt\n",
    "filename = input('파일명은 ?')\n",
    "f = open('data/' + filename, 'r', encoding='utf-8') # 파일을 연다(cp949코드가 기본 encoding 방식)\n",
    "print(f.read())\n",
    "f.close()"
   ]
  },
  {
   "cell_type": "code",
   "execution_count": null,
   "id": "30c47fb1",
   "metadata": {},
   "outputs": [],
   "source": [
    "4/0"
   ]
  },
  {
   "cell_type": "code",
   "execution_count": null,
   "id": "d7595e56",
   "metadata": {},
   "outputs": [],
   "source": [
    "a = [1,2,3]\n",
    "a[3]"
   ]
  },
  {
   "cell_type": "markdown",
   "id": "3e714de8",
   "metadata": {},
   "source": [
    "# 2절 try ~ except로 예외처리\n",
    "## 2.1 try~except\n",
    "    try:\n",
    "        예외가 발생할 가능성이 있는 명령어들\n",
    "    except:\n",
    "        예외가 발생했을 경우 실행할 명령어들"
   ]
  },
  {
   "cell_type": "code",
   "execution_count": null,
   "id": "992bb113",
   "metadata": {},
   "outputs": [],
   "source": [
    "# 100을 입력받은 정수값으로 나눠 출력\n",
    "# ValueError: invalid literal for int() with base 10: '삼'(정수를 입력하지 않은 경우)\n",
    "x = int(input('100을 나눌 정수를 입력하세요 :'))\n",
    "print('100을 입력한 정수로 나누면 {:.3f}'.format(100/x))"
   ]
  },
  {
   "cell_type": "code",
   "execution_count": null,
   "id": "a63e7679",
   "metadata": {},
   "outputs": [],
   "source": [
    "# 100을 입력받은 정수값으로 나눠 출력\n",
    "# ValueError: invalid literal for int() with base 10: '삼'(정수를 입력하지 않은 경우)\n",
    "# ZeroDivisionError: division by zero(0을 입력한 경우 예외 객체의 타입과 메세지)\n",
    "# try절에 예외가 발생되지 않으면 except절은 수행되지 않음\n",
    "# try절에 예외가 발생되면, try절 수행을 멈추고 except절을 수행\n",
    "try:\n",
    "    x = int(input('100을 나눌 정수를 입력하세요 :'))\n",
    "    print('100을 입력한 정수로 나누면 {:.3f}'.format(100/x))\n",
    "except:\n",
    "    print('유효한 정수가 아닙니다')"
   ]
  },
  {
   "cell_type": "code",
   "execution_count": 7,
   "id": "adc68f87",
   "metadata": {},
   "outputs": [
    {
     "name": "stdout",
     "output_type": "stream",
     "text": [
      "100을 나눌 정수를 입력하세요 :0\n",
      "유효한 정수가 아닙니다\n",
      "100을 나눌 정수를 입력하세요 :q\n",
      "유효한 정수가 아닙니다\n",
      "100을 나눌 정수를 입력하세요 :w\n",
      "유효한 정수가 아닙니다\n",
      "100을 나눌 정수를 입력하세요 :e\n",
      "유효한 정수가 아닙니다\n",
      "100을 나눌 정수를 입력하세요 :r\n",
      "유효한 정수가 아닙니다\n",
      "100을 나눌 정수를 입력하세요 :t\n",
      "유효한 정수가 아닙니다\n",
      "100을 나눌 정수를 입력하세요 :yy\n",
      "유효한 정수가 아닙니다\n",
      "100을 나눌 정수를 입력하세요 :y\n",
      "유효한 정수가 아닙니다\n",
      "100을 나눌 정수를 입력하세요 :y\n",
      "유효한 정수가 아닙니다\n",
      "100을 나눌 정수를 입력하세요 :8\n",
      "100을 입력한 정수로 나누면 12.500\n"
     ]
    }
   ],
   "source": [
    "while True:\n",
    "    try:\n",
    "        x = int(input('100을 나눌 정수를 입력하세요 :'))\n",
    "        print('100을 입력한 정수로 나누면 {:.3f}'.format(100/x))\n",
    "        break\n",
    "    except:\n",
    "        print('유효한 정수가 아닙니다')"
   ]
  },
  {
   "cell_type": "markdown",
   "id": "cb74af9f",
   "metadata": {},
   "source": [
    "# 2.2 지정된 예외 처리\n",
    "```\n",
    "try:\n",
    "    예외가 발생할 수도 있는 명령어\n",
    "except (예외타입1, 예외타입3):\n",
    "    해당 예외가 발생할 경우 실행할 명령어\n",
    "except 예외타입2:\n",
    "    해당 예외가 발생할 경우 실행할 명령어\n",
    "```"
   ]
  },
  {
   "cell_type": "code",
   "execution_count": 8,
   "id": "e2517f70",
   "metadata": {},
   "outputs": [
    {
     "name": "stdout",
     "output_type": "stream",
     "text": [
      "100을 나눌 정수를 입력하세요 :10\n",
      "100을 입력한 정수로 나누면 10.000\n"
     ]
    }
   ],
   "source": [
    "# 수를 입력받아 100을 나눈 결과를 출력\n",
    "# ValueError: invalid literal for int() with base 10: '삼'(정수를 입력하지 않은 경우)\n",
    "# ZeroDivisionError: division by zero(0을 입력한 경우 예외 객체의 타입과 메세지)\n",
    "\n",
    "try:\n",
    "    x = int(input('100을 나눌 정수를 입력하세요 :'))\n",
    "    print('100을 입력한 정수로 나누면 {:.3f}'.format(100/x))\n",
    "except ZeroDivisionError:\n",
    "    print('0으로는 나눌 수 없어요')\n",
    "except ValueError:\n",
    "    print('정수를 입력하지 않았습니다')\n",
    "except Exception:\n",
    "    print('기타 다른 예외입니다')"
   ]
  },
  {
   "cell_type": "code",
   "execution_count": 9,
   "id": "fe7dedeb",
   "metadata": {},
   "outputs": [
    {
     "name": "stdout",
     "output_type": "stream",
     "text": [
      "100을 나눌 정수를 입력하세요 :25\n",
      "100을 입력한 정수로 나누면 4.000\n"
     ]
    }
   ],
   "source": [
    "try:\n",
    "    x = int(input('100을 나눌 정수를 입력하세요 :'))\n",
    "    print('100을 입력한 정수로 나누면 {:.3f}'.format(100/x))\n",
    "except (ZeroDivisionError, ValueError):\n",
    "    print('나눌 수 있는 유효한 수가 아닙니다')\n",
    "except Exception:\n",
    "    print('기타 다른 예외입니다')"
   ]
  },
  {
   "cell_type": "markdown",
   "id": "c9c6d1d8",
   "metadata": {},
   "source": [
    "# 2.3 예외 인수(e)\n",
    "```\n",
    "try:\n",
    "    예외가 발생할 수도 있는 명령어\n",
    "except 예외타입 as e:\n",
    "    print(e)\n",
    "    print(e.args[0]) # 예외메세지 출력\n",
    "```"
   ]
  },
  {
   "cell_type": "code",
   "execution_count": 10,
   "id": "ee616b47",
   "metadata": {},
   "outputs": [],
   "source": [
    "e = Exception(\"에러메세지\")"
   ]
  },
  {
   "cell_type": "code",
   "execution_count": 11,
   "id": "44636b75",
   "metadata": {},
   "outputs": [
    {
     "data": {
      "text/plain": [
       "('에러메세지',)"
      ]
     },
     "execution_count": 11,
     "metadata": {},
     "output_type": "execute_result"
    }
   ],
   "source": [
    "e.args"
   ]
  },
  {
   "cell_type": "code",
   "execution_count": 12,
   "id": "a232d6b8",
   "metadata": {},
   "outputs": [
    {
     "name": "stdout",
     "output_type": "stream",
     "text": [
      "에러메세지\n"
     ]
    }
   ],
   "source": [
    "print(e)"
   ]
  },
  {
   "cell_type": "code",
   "execution_count": 13,
   "id": "1c54c5ca",
   "metadata": {},
   "outputs": [
    {
     "name": "stdout",
     "output_type": "stream",
     "text": [
      "100을 나눌 정수를 입력하세요 :10\n",
      "100을 입력한 정수로 나누면 10.000\n"
     ]
    }
   ],
   "source": [
    "try:\n",
    "    x = int(input('100을 나눌 정수를 입력하세요 :'))\n",
    "    print('100을 입력한 정수로 나누면 {:.3f}'.format(100/x))\n",
    "except (ZeroDivisionError, ValueError) as e:\n",
    "    print('예외 유형 :', type(e))\n",
    "    print('예외 메세지 :',e)\n",
    "    print('예외 메세지 :',e.__str__())\n",
    "    print('예외 메세지 :', e.args)\n",
    "except Exception:\n",
    "    print('기타 다른 예외입니다')"
   ]
  },
  {
   "cell_type": "markdown",
   "id": "2d5c8bb8",
   "metadata": {},
   "source": [
    "```\n",
    "try:\n",
    "    예외가 발생할 수도 있는 명령어\n",
    "except 예외타입 as e:\n",
    "    print(e)\n",
    "    print(e.args[0])\n",
    "[else:\n",
    "    try절 수행하다 예외가 발생 안 되면 else절 수행\n",
    "    try절 수행하다 예외가 발생하면 except 절 수행(else절 수행 안 함)\n",
    "]\n",
    "[finally:\n",
    "    try절에서 예외가 발생하든 안 하든 마지막에 수행\n",
    "]\n",
    "```"
   ]
  },
  {
   "cell_type": "code",
   "execution_count": 15,
   "id": "38daa945",
   "metadata": {},
   "outputs": [
    {
     "name": "stdout",
     "output_type": "stream",
     "text": [
      "Hello\n",
      "Python\n",
      "주피터노트북의 txt파일 저장은 기본이 utf-8로 저장\n",
      "김설믜\n"
     ]
    }
   ],
   "source": [
    "try:\n",
    "    file = open('data/ch08.txt', 'r', encoding='utf-8')\n",
    "except FileNotFoundError as e:\n",
    "    print('해당 폴더나 파일이 없습니다')\n",
    "    print(e)\n",
    "except UnicodeDecodeError as e:\n",
    "    print(e)\n",
    "else:\n",
    "    print(file.read())\n",
    "finally:\n",
    "    file.close()"
   ]
  },
  {
   "cell_type": "code",
   "execution_count": 16,
   "id": "07fca5b1",
   "metadata": {},
   "outputs": [
    {
     "name": "stdout",
     "output_type": "stream",
     "text": [
      "Hello\n",
      "Python\n",
      "주피터노트북의 txt파일 저장은 기본이 utf-8로 저장\n",
      "김설믜\n"
     ]
    }
   ],
   "source": [
    "try:\n",
    "    file = open('data/ch08.txt', 'r', encoding='utf-8')\n",
    "    print(file.read())\n",
    "except FileNotFoundError as e:\n",
    "    print('해당 폴더나 파일이 없습니다')\n",
    "    print(e)\n",
    "except UnicodeDecodeError as e:\n",
    "    print(e)\n",
    "finally:\n",
    "    file.close()"
   ]
  },
  {
   "cell_type": "markdown",
   "id": "f9c62f52",
   "metadata": {},
   "source": [
    "# 3절 raise\n",
    " - 강제 예외 발생"
   ]
  },
  {
   "cell_type": "code",
   "execution_count": 17,
   "id": "b001345d",
   "metadata": {},
   "outputs": [
    {
     "ename": "Exception",
     "evalue": "예외",
     "output_type": "error",
     "traceback": [
      "\u001b[1;31m---------------------------------------------------------------------------\u001b[0m",
      "\u001b[1;31mException\u001b[0m                                 Traceback (most recent call last)",
      "Cell \u001b[1;32mIn[17], line 1\u001b[0m\n\u001b[1;32m----> 1\u001b[0m \u001b[38;5;28;01mraise\u001b[39;00m \u001b[38;5;167;01mException\u001b[39;00m(\u001b[38;5;124m'\u001b[39m\u001b[38;5;124m예외\u001b[39m\u001b[38;5;124m'\u001b[39m)\n",
      "\u001b[1;31mException\u001b[0m: 예외"
     ]
    }
   ],
   "source": [
    "raise Exception('예외')"
   ]
  },
  {
   "cell_type": "code",
   "execution_count": 18,
   "id": "5d93ac07",
   "metadata": {},
   "outputs": [
    {
     "ename": "ZeroDivisionError",
     "evalue": "0으로 나누려고 했네",
     "output_type": "error",
     "traceback": [
      "\u001b[1;31m---------------------------------------------------------------------------\u001b[0m",
      "\u001b[1;31mZeroDivisionError\u001b[0m                         Traceback (most recent call last)",
      "Cell \u001b[1;32mIn[18], line 1\u001b[0m\n\u001b[1;32m----> 1\u001b[0m \u001b[38;5;28;01mraise\u001b[39;00m \u001b[38;5;167;01mZeroDivisionError\u001b[39;00m(\u001b[38;5;124m\"\u001b[39m\u001b[38;5;124m0으로 나누려고 했네\u001b[39m\u001b[38;5;124m\"\u001b[39m)\n",
      "\u001b[1;31mZeroDivisionError\u001b[0m: 0으로 나누려고 했네"
     ]
    }
   ],
   "source": [
    "raise ZeroDivisionError(\"0으로 나누려고 했네\")"
   ]
  },
  {
   "cell_type": "code",
   "execution_count": 19,
   "id": "ea5ec9d4",
   "metadata": {},
   "outputs": [],
   "source": [
    "# 사용자 정의 예외 : Exception클래스로부터 상속받아 구현\n",
    "class LengthZeroError(Exception):\n",
    "    '길이가 0일때 발생하는 예외'\n",
    "    def __init__(self, message):\n",
    "        super().__init__(message)"
   ]
  },
  {
   "cell_type": "code",
   "execution_count": 20,
   "id": "d5102d38",
   "metadata": {},
   "outputs": [],
   "source": [
    "def insert(*data): # 튜플매개변수\n",
    "    print('data = ', data)\n",
    "    if len(data)==0:\n",
    "        raise LengthZeroError(\"매개변수의 갯수가 0이면 예외예요(사용자 정의 예외)\")\n",
    "    for item in data:\n",
    "        print(item, end=' ')\n",
    "    print('등을 입력하였습니다')"
   ]
  },
  {
   "cell_type": "code",
   "execution_count": 21,
   "id": "cb70b135",
   "metadata": {},
   "outputs": [
    {
     "name": "stdout",
     "output_type": "stream",
     "text": [
      "data =  (1, 2, '3')\n",
      "1 2 3 등을 입력하였습니다\n"
     ]
    }
   ],
   "source": [
    "insert(1, 2, '3')"
   ]
  },
  {
   "cell_type": "code",
   "execution_count": 22,
   "id": "22b1c396",
   "metadata": {},
   "outputs": [
    {
     "name": "stdout",
     "output_type": "stream",
     "text": [
      "data =  ()\n",
      "매개변수의 갯수가 0이면 예외예요(사용자 정의 예외)\n",
      "예외가 발생하든 안 하든 무조건 실행\n"
     ]
    }
   ],
   "source": [
    "data = ()\n",
    "try:\n",
    "    insert(*data)\n",
    "except Exception as e:\n",
    "    print(e)\n",
    "else:\n",
    "    print('예외가 발생 안 할 때만 실행')\n",
    "finally:\n",
    "    print('예외가 발생하든 안 하든 무조건 실행')"
   ]
  },
  {
   "cell_type": "markdown",
   "id": "25cc966c",
   "metadata": {},
   "source": [
    "# 4절 추상클래스\n",
    " - 추상클래스 : 추상메소드가 1개 이상 포함된 클래스를 추상클래스\n",
    " - 추상메소드 : 호출할 수 없는 메소드, 상속받은 클래스에서 재정의를 강요할 때\n",
    " - python에서 추상메소드 @abstractmethod나 raise를 이용"
   ]
  },
  {
   "cell_type": "code",
   "execution_count": 23,
   "id": "a965c36c",
   "metadata": {},
   "outputs": [],
   "source": [
    "class Shape:\n",
    "    def __init__(self):\n",
    "        raise NotImplementedError(\"추상클래스 역할\")\n",
    "    def calc_area(self):\n",
    "        raise NotImplementedError(\"추상메소드 역할\")"
   ]
  },
  {
   "cell_type": "code",
   "execution_count": 5,
   "id": "b3078621",
   "metadata": {},
   "outputs": [],
   "source": [
    "from abc import ABC, abstractmethod\n",
    "class Shape(ABC):\n",
    "    @abstractmethod\n",
    "    def __init__(self):\n",
    "        pass\n",
    "    @abstractmethod\n",
    "    def calc_area(self):\n",
    "        pass"
   ]
  },
  {
   "cell_type": "code",
   "execution_count": 7,
   "id": "4ff99437",
   "metadata": {},
   "outputs": [
    {
     "ename": "TypeError",
     "evalue": "Can't instantiate abstract class Shape with abstract methods __init__, calc_area",
     "output_type": "error",
     "traceback": [
      "\u001b[1;31m---------------------------------------------------------------------------\u001b[0m",
      "\u001b[1;31mTypeError\u001b[0m                                 Traceback (most recent call last)",
      "Cell \u001b[1;32mIn[7], line 1\u001b[0m\n\u001b[1;32m----> 1\u001b[0m s \u001b[38;5;241m=\u001b[39m \u001b[43mShape\u001b[49m\u001b[43m(\u001b[49m\u001b[43m)\u001b[49m\n",
      "\u001b[1;31mTypeError\u001b[0m: Can't instantiate abstract class Shape with abstract methods __init__, calc_area"
     ]
    }
   ],
   "source": [
    "s = Shape()"
   ]
  },
  {
   "cell_type": "code",
   "execution_count": 25,
   "id": "5b6871d8",
   "metadata": {},
   "outputs": [],
   "source": [
    "import numpy as np\n",
    "class Circle(Shape):\n",
    "    def __init__(self, radius=3):\n",
    "        self.radius = radius\n",
    "    def calc_area(self):\n",
    "        '원의 넓이를 return'\n",
    "        return np.pi * (self.radius**2)"
   ]
  },
  {
   "cell_type": "code",
   "execution_count": 26,
   "id": "bb35776f",
   "metadata": {},
   "outputs": [
    {
     "data": {
      "text/plain": [
       "78.53981633974483"
      ]
     },
     "execution_count": 26,
     "metadata": {},
     "output_type": "execute_result"
    }
   ],
   "source": [
    "myCircle = Circle(5)\n",
    "myCircle.calc_area()"
   ]
  },
  {
   "cell_type": "markdown",
   "id": "8ca9fecc",
   "metadata": {},
   "source": [
    "# 5절 파일 정리 작업(with절 이용)\n"
   ]
  },
  {
   "cell_type": "code",
   "execution_count": 6,
   "id": "d6f62872",
   "metadata": {},
   "outputs": [
    {
     "name": "stdout",
     "output_type": "stream",
     "text": [
      "['Hello\\n', 'Python\\n', '주피터노트북의 txt파일 저장은 기본이 utf-8로 저장\\n', '김설믜']\n"
     ]
    }
   ],
   "source": [
    "try:\n",
    "    f = open('data/ch08.txt', 'r', encoding='utf-8')\n",
    "    lines = f.readlines() # 한줄한줄 모든 줄을 한꺼번에 list로 읽어오기\n",
    "    print(lines)\n",
    "except FileNotFoundError as e:\n",
    "    print(e)\n",
    "finally:\n",
    "    f.close()"
   ]
  },
  {
   "cell_type": "code",
   "execution_count": null,
   "id": "7b567f3a",
   "metadata": {},
   "outputs": [],
   "source": [
    "f = open('data/ch08.txt', 'r', encoding='utf-8')\n",
    "lines = f.readlines() # 한줄한줄 모든 줄을 한꺼번에 list로 읽어오기\n",
    "print(lines)\n",
    "f.close()"
   ]
  },
  {
   "cell_type": "code",
   "execution_count": 35,
   "id": "7608acb4",
   "metadata": {},
   "outputs": [
    {
     "name": "stdout",
     "output_type": "stream",
     "text": [
      "['Hello\\n', 'Python\\n', '주피터노트북의 txt파일 저장은 기본이 utf-8로 저장\\n', '김설믜']\n"
     ]
    }
   ],
   "source": [
    "# with 절 이후에는 자동적으로 close() 실행\n",
    "with open('data/ch08.txt', 'r', encoding='utf-8') as f:\n",
    "    lines = f.readlines()\n",
    "print(lines)"
   ]
  },
  {
   "cell_type": "code",
   "execution_count": 36,
   "id": "e6748fd7",
   "metadata": {},
   "outputs": [
    {
     "name": "stdout",
     "output_type": "stream",
     "text": [
      "['Hello\\n', 'Python\\n', '주피터노트북의 txt파일 저장은 기본이 utf-8로 저장\\n', '김설믜']\n"
     ]
    }
   ],
   "source": [
    "try:\n",
    "    with open('data/ch08.txt', 'r', encoding='utf-8') as f:\n",
    "        lines = f.readlines()\n",
    "    print(lines)\n",
    "except (FileNotFoundError, UnicodeDecodeError) as e:\n",
    "    print(e)  "
   ]
  },
  {
   "cell_type": "markdown",
   "id": "71445760",
   "metadata": {},
   "source": [
    "# 6절 연습문제\n",
    "실습형"
   ]
  },
  {
   "cell_type": "code",
   "execution_count": 33,
   "id": "24959a3b",
   "metadata": {},
   "outputs": [
    {
     "name": "stdout",
     "output_type": "stream",
     "text": [
      "첫번째 숫자를 입력하세요. : 9\n",
      "두번째 숫자를 입력하세요.0\n",
      "float division by zero 0으로 나눌수 없습니다.다시 시도하세요.\n"
     ]
    }
   ],
   "source": [
    "# 실습형1.\n",
    "while True:\n",
    "    try:\n",
    "        num1 = float(input('첫번째 숫자를 입력하세요'))\n",
    "        num2 = float(input('두번째 숫자를 입력하세요'))\n",
    "        print('입력한 수는 {}와 {}'.format(num1, num2))\n",
    "        print('{}을 {}로 나누면 {}입니다'.format(num1, num2, num1/num2))\n",
    "        break\n",
    "    except:\n",
    "        print('유효한 숫자가 아닙니다. 다시 시도하세요')"
   ]
  },
  {
   "cell_type": "code",
   "execution_count": null,
   "id": "4685612b",
   "metadata": {},
   "outputs": [],
   "source": [
    "# 실습형2 \n",
    "while True:\n",
    "    try:\n",
    "        num1 = float(input('첫번째 숫자를 입력하세요'))\n",
    "        num2 = float(input('두번째 숫자를 입력하세요'))\n",
    "        print('입력한 수는 {}와 {}'.format(num1, num2))\n",
    "        print('{}을 {}로 나누면 {}입니다'.format(num1, num2, num1/num2))\n",
    "        break\n",
    "    except ValueError:\n",
    "        print('유효한 숫자가 아닙니다. 다시 시도하세요')\n",
    "    except ZeroDivisionError:\n",
    "        print('0으로 나눌 수 없습니다. 다시 시도하세요')"
   ]
  },
  {
   "cell_type": "code",
   "execution_count": null,
   "id": "ef00269d",
   "metadata": {},
   "outputs": [],
   "source": [
    "문제풀이\n",
    "1 (3)\n",
    "2 (2)\n",
    "3 (4)\n",
    "4 (3)"
   ]
  }
 ],
 "metadata": {
  "kernelspec": {
   "display_name": "Python 3 (ipykernel)",
   "language": "python",
   "name": "python3"
  },
  "language_info": {
   "codemirror_mode": {
    "name": "ipython",
    "version": 3
   },
   "file_extension": ".py",
   "mimetype": "text/x-python",
   "name": "python",
   "nbconvert_exporter": "python",
   "pygments_lexer": "ipython3",
   "version": "3.10.9"
  },
  "toc": {
   "base_numbering": 1,
   "nav_menu": {},
   "number_sections": false,
   "sideBar": true,
   "skip_h1_title": false,
   "title_cell": "Table of Contents",
   "title_sidebar": "Contents",
   "toc_cell": false,
   "toc_position": {
    "height": "calc(100% - 180px)",
    "left": "10px",
    "top": "150px",
    "width": "303.391px"
   },
   "toc_section_display": true,
   "toc_window_display": true
  }
 },
 "nbformat": 4,
 "nbformat_minor": 5
}
