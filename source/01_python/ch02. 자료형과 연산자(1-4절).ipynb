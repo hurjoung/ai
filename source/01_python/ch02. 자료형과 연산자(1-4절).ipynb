{
 "cells": [
  {
   "cell_type": "code",
   "execution_count": 2,
   "id": "d62b9589",
   "metadata": {},
   "outputs": [
    {
     "data": {
      "text/html": [
       "\n",
       "<style>\n",
       "div.container{width:90% !important;}\n",
       "div.cell.code_cell.rendered{width:100%;}\n",
       "div.input_prompt{padding:0px;}\n",
       "div.CodeMirror {font-family:Consolas; font-size:12pt;}\n",
       "div.text_cell_render.rendered_html{font-size:12pt;}\n",
       "div.output {font-size:12pt; font-weight:bold;}\n",
       "div.input {font-family:Consolas; font-size:12pt;}\n",
       "div.prompt {min-width:70px;}\n",
       "div#toc-wrapper{padding-top:120px;}\n",
       "div.text_cell_render ul li{font-size:12pt;padding:5px;}\n",
       "table.dataframe{font-size:12px;}\n",
       "</style>\n"
      ],
      "text/plain": [
       "<IPython.core.display.HTML object>"
      ]
     },
     "metadata": {},
     "output_type": "display_data"
    }
   ],
   "source": [
    "from IPython.display import display, HTML\n",
    "display(HTML(\"\"\"\n",
    "<style>\n",
    "div.container{width:90% !important;}\n",
    "div.cell.code_cell.rendered{width:100%;}\n",
    "div.input_prompt{padding:0px;}\n",
    "div.CodeMirror {font-family:Consolas; font-size:12pt;}\n",
    "div.text_cell_render.rendered_html{font-size:12pt;}\n",
    "div.output {font-size:12pt; font-weight:bold;}\n",
    "div.input {font-family:Consolas; font-size:12pt;}\n",
    "div.prompt {min-width:70px;}\n",
    "div#toc-wrapper{padding-top:120px;}\n",
    "div.text_cell_render ul li{font-size:12pt;padding:5px;}\n",
    "table.dataframe{font-size:12px;}\n",
    "</style>\n",
    "\"\"\"))"
   ]
  },
  {
   "cell_type": "markdown",
   "id": "7f7eec31",
   "metadata": {},
   "source": [
    "<b><font size=\"6\" color=\"red\">ch02. 자료형과 연산자</font></b>\n",
    "# 1절. 변수\n",
    "- 변수 : 메모리 공가\n",
    "- 파이썬은 변수 선언을 위한 타입이 없고, 별도의 선언 과정도 없음\n",
    "## 1.1 변수 할당\n",
    "- 할당연산자(=)를 이용해서 값을 할당하면 자료형(타입)이 세팅\n",
    "- ** 파이썬에서의 모든 변수는 객체로 저장 **"
   ]
  },
  {
   "cell_type": "code",
   "execution_count": 20,
   "id": "9467ffff",
   "metadata": {},
   "outputs": [
    {
     "name": "stdout",
     "output_type": "stream",
     "text": [
      "넓이: 78.5\n"
     ]
    }
   ],
   "source": [
    "r=5\n",
    "area = 3.14*r*r\n",
    "print('넓이:',area)"
   ]
  },
  {
   "cell_type": "code",
   "execution_count": 23,
   "id": "d3d51911",
   "metadata": {},
   "outputs": [
    {
     "name": "stdout",
     "output_type": "stream",
     "text": [
      "넓이: 78.53981633974483\n"
     ]
    }
   ],
   "source": [
    "import numpy as np\n",
    "area = np.pi * r * r\n",
    "print('넓이:',area)"
   ]
  },
  {
   "cell_type": "code",
   "execution_count": 27,
   "id": "e1fded4a",
   "metadata": {},
   "outputs": [
    {
     "name": "stdout",
     "output_type": "stream",
     "text": [
      "area의 주소: 1553193676528\n",
      "area의 타입: <class 'float'>\n"
     ]
    }
   ],
   "source": [
    "print('area의 주소:', id(area))\n",
    "print('area의 타입:', type(area))"
   ]
  },
  {
   "cell_type": "code",
   "execution_count": 28,
   "id": "35f7968b",
   "metadata": {},
   "outputs": [
    {
     "data": {
      "text/plain": [
       "False"
      ]
     },
     "execution_count": 28,
     "metadata": {},
     "output_type": "execute_result"
    }
   ],
   "source": [
    "area.is_integer()"
   ]
  },
  {
   "cell_type": "code",
   "execution_count": 29,
   "id": "dfd8a360",
   "metadata": {},
   "outputs": [
    {
     "name": "stdout",
     "output_type": "stream",
     "text": [
      "area의 주소: 1553192649232\n",
      "area의 타입: <class 'int'>\n"
     ]
    }
   ],
   "source": [
    "area = 10\n",
    "print('area의 주소:', id(area))\n",
    "print('area의 타입:', type(area))"
   ]
  },
  {
   "cell_type": "code",
   "execution_count": 30,
   "id": "8d497b70",
   "metadata": {},
   "outputs": [
    {
     "name": "stdout",
     "output_type": "stream",
     "text": [
      "area의 주소: 1553308764944\n",
      "area의 타입: <class 'str'>\n"
     ]
    }
   ],
   "source": [
    "area = '파이썬'\n",
    "print('area의 주소:', id(area))\n",
    "print('area의 타입:', type(area))"
   ]
  },
  {
   "cell_type": "markdown",
   "id": "2de21392",
   "metadata": {},
   "source": [
    "## 1.2 변수(함수) 이름 규칙\n",
    "- 문자로 시작\n",
    "- 문자(특수문자는 _만 가능), 숫자, _로 변수명 작성\n",
    "- 함수명은 변수명으로 가능하나 피한다.\n",
    "- 파이썬 예약어는 변수명 사용 불가\n",
    "- 한글 변수 사용마라."
   ]
  },
  {
   "cell_type": "code",
   "execution_count": 35,
   "id": "70454f23",
   "metadata": {},
   "outputs": [
    {
     "name": "stdout",
     "output_type": "stream",
     "text": [
      "<class 'complex'>\n"
     ]
    }
   ],
   "source": [
    "#숫자 : 정수, 실수, 복소수\n",
    "i = 1 +3j\n",
    "print(type(i))"
   ]
  },
  {
   "cell_type": "code",
   "execution_count": 36,
   "id": "b9915cec",
   "metadata": {},
   "outputs": [
    {
     "data": {
      "text/plain": [
       "True"
      ]
     },
     "execution_count": 36,
     "metadata": {},
     "output_type": "execute_result"
    }
   ],
   "source": [
    "isinstance(i, complex)"
   ]
  },
  {
   "cell_type": "code",
   "execution_count": 37,
   "id": "84b5ed67",
   "metadata": {},
   "outputs": [
    {
     "data": {
      "text/plain": [
       "False"
      ]
     },
     "execution_count": 37,
     "metadata": {},
     "output_type": "execute_result"
    }
   ],
   "source": [
    "isinstance(i, int)"
   ]
  },
  {
   "cell_type": "markdown",
   "id": "1b5c906a",
   "metadata": {},
   "source": [
    "## 1.3 다중 변수 선언"
   ]
  },
  {
   "cell_type": "code",
   "execution_count": 38,
   "id": "592b92f8",
   "metadata": {},
   "outputs": [
    {
     "name": "stdout",
     "output_type": "stream",
     "text": [
      "10 20\n"
     ]
    }
   ],
   "source": [
    "a, b = 10, 20\n",
    "print(a, b)"
   ]
  },
  {
   "cell_type": "code",
   "execution_count": 42,
   "id": "76a3fdb1",
   "metadata": {},
   "outputs": [
    {
     "name": "stdout",
     "output_type": "stream",
     "text": [
      "80 130\n"
     ]
    }
   ],
   "source": [
    "a, b = b, a+b #다중 변수 할당시 순차적 할당이 아니고, 일괄 동시 할당\n",
    "print(a, b)"
   ]
  },
  {
   "cell_type": "markdown",
   "id": "452038ad",
   "metadata": {},
   "source": [
    "## 1.4 도움말"
   ]
  },
  {
   "cell_type": "code",
   "execution_count": 43,
   "id": "a971c3f4",
   "metadata": {},
   "outputs": [
    {
     "name": "stdout",
     "output_type": "stream",
     "text": [
      "Help on built-in function print in module builtins:\n",
      "\n",
      "print(...)\n",
      "    print(value, ..., sep=' ', end='\\n', file=sys.stdout, flush=False)\n",
      "    \n",
      "    Prints the values to a stream, or to sys.stdout by default.\n",
      "    Optional keyword arguments:\n",
      "    file:  a file-like object (stream); defaults to the current sys.stdout.\n",
      "    sep:   string inserted between values, default a space.\n",
      "    end:   string appended after the last value, default a newline.\n",
      "    flush: whether to forcibly flush the stream.\n",
      "\n"
     ]
    }
   ],
   "source": [
    "help(print)"
   ]
  },
  {
   "cell_type": "code",
   "execution_count": 12,
   "id": "7227339c",
   "metadata": {},
   "outputs": [
    {
     "name": "stdout",
     "output_type": "stream",
     "text": [
      "\n",
      "Welcome to Python 3.10's help utility!\n",
      "\n",
      "If this is your first time using Python, you should definitely check out\n",
      "the tutorial on the internet at https://docs.python.org/3.10/tutorial/.\n",
      "\n",
      "Enter the name of any module, keyword, or topic to get help on writing\n",
      "Python programs and using Python modules.  To quit this help utility and\n",
      "return to the interpreter, just type \"quit\".\n",
      "\n",
      "To get a list of available modules, keywords, symbols, or topics, type\n",
      "\"modules\", \"keywords\", \"symbols\", or \"topics\".  Each module also comes\n",
      "with a one-line summary of what it does; to list the modules whose name\n",
      "or summary contain a given string such as \"spam\", type \"modules spam\".\n",
      "\n",
      "help> \n",
      "\n",
      "You are now leaving help and returning to the Python interpreter.\n",
      "If you want to ask for help on a particular object directly from the\n",
      "interpreter, you can type \"help(object)\".  Executing \"help('string')\"\n",
      "has the same effect as typing a particular string at the help> prompt.\n"
     ]
    }
   ],
   "source": [
    "help()"
   ]
  },
  {
   "cell_type": "code",
   "execution_count": 13,
   "id": "406cdf7c",
   "metadata": {},
   "outputs": [
    {
     "name": "stdout",
     "output_type": "stream",
     "text": [
      "\n"
     ]
    }
   ],
   "source": [
    "# 도움말 기능 : shift + tab키\n",
    "print()"
   ]
  },
  {
   "cell_type": "code",
   "execution_count": 1,
   "id": "69ea5db2",
   "metadata": {},
   "outputs": [],
   "source": [
    "def add(x, y=0):\n",
    "    '''\n",
    "    매개변수(x,y) 2개를 받아 두자리 숫자로 만드는 함수\n",
    "    x=10의 자리수가 되고\n",
    "    y = 1의자리수가 됨(default 0)\n",
    "    '''\n",
    "    return x*10 + y"
   ]
  },
  {
   "cell_type": "code",
   "execution_count": 2,
   "id": "adee22fe",
   "metadata": {},
   "outputs": [
    {
     "data": {
      "text/plain": [
       "34"
      ]
     },
     "execution_count": 2,
     "metadata": {},
     "output_type": "execute_result"
    }
   ],
   "source": [
    "add(3,4)"
   ]
  },
  {
   "cell_type": "markdown",
   "id": "f540325b",
   "metadata": {},
   "source": [
    "# 2절. 화면io"
   ]
  },
  {
   "cell_type": "code",
   "execution_count": 3,
   "id": "ed1d5300",
   "metadata": {},
   "outputs": [
    {
     "name": "stdout",
     "output_type": "stream",
     "text": [
      "3\n",
      "3\n"
     ]
    }
   ],
   "source": [
    "#input() : 사용자로부터 값을 입력받기 위함 함수. 입력값은 문자(str)로 받음.\n",
    "first = input()\n",
    "print(first)"
   ]
  },
  {
   "cell_type": "code",
   "execution_count": 5,
   "id": "397a4ac3",
   "metadata": {},
   "outputs": [
    {
     "name": "stdout",
     "output_type": "stream",
     "text": [
      "첫번째 숫자는?3\n",
      "두번째 숫자는?4\n",
      "3 4\n"
     ]
    }
   ],
   "source": [
    "first = input('첫번째 숫자는?')\n",
    "second = input('두번째 숫자는?')\n",
    "print( first , second)"
   ]
  },
  {
   "cell_type": "code",
   "execution_count": 11,
   "id": "e9bcd6c1",
   "metadata": {},
   "outputs": [
    {
     "name": "stdout",
     "output_type": "stream",
     "text": [
      "첫번째 숫자는?3\n",
      "두번째 숫자는?7\n",
      "3 7 37\n"
     ]
    }
   ],
   "source": [
    "first = input('첫번째 숫자는?')\n",
    "second = input('두번째 숫자는?')\n",
    "print( int(first) , int(second), add(int(first) , int(second)))"
   ]
  },
  {
   "cell_type": "code",
   "execution_count": 7,
   "id": "972ba67e",
   "metadata": {},
   "outputs": [
    {
     "name": "stdout",
     "output_type": "stream",
     "text": [
      "first/3/second/4end\n"
     ]
    }
   ],
   "source": [
    "print( 'first', first , 'second', second, sep='/', end ='end\\n')"
   ]
  },
  {
   "cell_type": "markdown",
   "id": "85d972d3",
   "metadata": {},
   "source": [
    "# 3절. 기본 자료형\n",
    "- 자료형 : 변수가 가져야할 값의 형식. 자료형에 따라 값의 크기와 저장 방식 달라짐.\n",
    "- 자료형에 따라 수행할 수 있는 명령어들이 다름.\n",
    "    * `숫자` : int, float, complex\n",
    "    * `문자` : str\n",
    "    * `논리` : bool(true/false)"
   ]
  },
  {
   "cell_type": "markdown",
   "id": "a2a17ca0",
   "metadata": {},
   "source": [
    "## 3.1 숫자형"
   ]
  },
  {
   "cell_type": "code",
   "execution_count": 15,
   "id": "9ef67eca",
   "metadata": {},
   "outputs": [
    {
     "name": "stdout",
     "output_type": "stream",
     "text": [
      "9223372036854775807\n"
     ]
    }
   ],
   "source": [
    "import sys\n",
    "print(sys.maxsize) #정수의 최대값 : 2**63 -1"
   ]
  },
  {
   "cell_type": "code",
   "execution_count": 18,
   "id": "f85244bc",
   "metadata": {},
   "outputs": [
    {
     "name": "stdout",
     "output_type": "stream",
     "text": [
      "1.2e-20\n",
      "1.2e+20\n"
     ]
    }
   ],
   "source": [
    "f = 1.2e-20\n",
    "print(f)\n",
    "b=1.2e20\n",
    "print(b)"
   ]
  },
  {
   "cell_type": "code",
   "execution_count": 20,
   "id": "8130ae06",
   "metadata": {},
   "outputs": [
    {
     "name": "stdout",
     "output_type": "stream",
     "text": [
      "f= 1.5\n",
      "f= 1\n"
     ]
    }
   ],
   "source": [
    "#파이썬에서는 /의 결과는 모조건 실수\n",
    "f = 3/2\n",
    "print('f=',f)\n",
    "f = 3//2\n",
    "print('f=',f)"
   ]
  },
  {
   "cell_type": "markdown",
   "id": "00335367",
   "metadata": {},
   "source": [
    "## 3.2 문자형"
   ]
  },
  {
   "cell_type": "code",
   "execution_count": 24,
   "id": "117ea48d",
   "metadata": {},
   "outputs": [
    {
     "name": "stdout",
     "output_type": "stream",
     "text": [
      "홍길동'짱'\n",
      "홍길동'짱'\n"
     ]
    }
   ],
   "source": [
    "name = '홍길동\\'짱\\''\n",
    "print(name)\n",
    "name = \"홍길동'짱'\"\n",
    "print(name)"
   ]
  },
  {
   "cell_type": "code",
   "execution_count": 27,
   "id": "b0b5f2a2",
   "metadata": {},
   "outputs": [
    {
     "name": "stdout",
     "output_type": "stream",
     "text": [
      "여러줄\t짜리 내용을 저장\n",
      " 줄바꿈 문자를 쓰면 됨\n",
      " 줄바꿈\n",
      "여러줄\t짜리 내용을 저장\n",
      "줄바꿈 문자를 쓰면 됨\n",
      "줄바꿈\n"
     ]
    }
   ],
   "source": [
    "text = \"여러줄\\t짜리 내용을 저장\\n 줄바꿈 문자를 쓰면 됨\\n 줄바꿈\"\n",
    "print(text)\n",
    "\n",
    "text = '''여러줄\\t짜리 내용을 저장\n",
    "줄바꿈 문자를 쓰면 됨\n",
    "줄바꿈'''\n",
    "print(text)"
   ]
  },
  {
   "cell_type": "markdown",
   "id": "cc1f535a",
   "metadata": {},
   "source": [
    "###  문자열 연산(+,*)"
   ]
  },
  {
   "cell_type": "code",
   "execution_count": 29,
   "id": "194cb636",
   "metadata": {},
   "outputs": [
    {
     "name": "stdout",
     "output_type": "stream",
     "text": [
      "홍길동동해번쩍\n",
      "홍길동 동해번쩍\n",
      "홍길동홍길동홍길동\n"
     ]
    }
   ],
   "source": [
    "name1 = '홍길동'\n",
    "name2 = '동해번쩍'\n",
    "print(name1+ name2)\n",
    "print(name1, name2)\n",
    "print(name1*3)"
   ]
  },
  {
   "cell_type": "markdown",
   "id": "e2e13f04",
   "metadata": {},
   "source": [
    "### raw 데이터\n",
    " - 용도 : 정규표현식 이용, 디렉토리 경로 표시"
   ]
  },
  {
   "cell_type": "code",
   "execution_count": 30,
   "id": "e7368434",
   "metadata": {},
   "outputs": [
    {
     "name": "stdout",
     "output_type": "stream",
     "text": [
      "hello\\n world\n"
     ]
    }
   ],
   "source": [
    "print(r'hello\\n world')"
   ]
  },
  {
   "cell_type": "markdown",
   "id": "e8639b2e",
   "metadata": {},
   "source": [
    "### 정규표현식(regex)\n",
    "\n",
    "    1. 참조 : 위키백과\n",
    "    \n",
    "    2. 간략문법\n",
    "    \n",
    "    \\d (숫자와 매치, [0-9]와 동일)    \n",
    "    \\D 숫자가 아닌것    \n",
    "    \\w 영문자나 숫자    \n",
    "    \\W 영문자나 숫자가 아님    \n",
    "    . (문자)    \n",
    "    \\. (.)    \n",
    "    \\- (-)    \n",
    "    {2, } 2번이상 반복    \n",
    "    {2, 4} 2번-4번 반복    \n",
    "    ? 0번이나 1번    \n",
    "    + 1번이상 반복    \n",
    "    * 0번이상 반복\n",
    "    \n",
    "    3. 정규표현식 연습장    \n",
    "    ex1. 전화번호 : 02 999 9999 029991234 010-9999-9999 010.123.1111 02)999-9999    \n",
    "    \\d{2,3}[ \\)\\.\\-]?\\d{3,4}[ \\.\\-]?\\d{4}    \n",
    "    ex2. 이메일 : abc12@naver.com abc12@sns.co.kr    \n",
    "    \\w+@\\w+(\\.\\w+){1,2}    \n",
    "    ex3. 주민번호 : 980101-12345678    \n",
    "    \\d{2}(0[1-9]|1[0-2])(0[1-9]|[12]\\d|30|31)-[1-4]\\d{6}\n"
   ]
  },
  {
   "cell_type": "code",
   "execution_count": 31,
   "id": "fcc91ba3",
   "metadata": {},
   "outputs": [
    {
     "name": "stdout",
     "output_type": "stream",
     "text": [
      "이름:홍길동, 주소:서울, 전화:02-888-8888, 핸드폰:010-9999-9999, 특징:동해번쩍 서해번쩍혈액형:Bㅋㅋ ㅋㅋzz\n"
     ]
    }
   ],
   "source": [
    "import re\n",
    "data = \"이름:홍길동, 주소:서울, 전화:02-888-8888, \\\n",
    "핸드폰:010-9999-9999, 특징:동해번쩍 서해번쩍\\\n",
    "혈액형:Bㅋㅋ ㅋㅋzz\"\n",
    "print(data)"
   ]
  },
  {
   "cell_type": "code",
   "execution_count": 34,
   "id": "13f031ce",
   "metadata": {},
   "outputs": [
    {
     "data": {
      "text/plain": [
       "['02-888-8888', '010-9999-9999']"
      ]
     },
     "execution_count": 34,
     "metadata": {},
     "output_type": "execute_result"
    }
   ],
   "source": [
    "tel_pattern = r\"\\d{2,3}[ \\)\\.\\-]?\\d{3,4}[ \\.\\-]?\\d{4}\"\n",
    "tels = re.findall(tel_pattern, data)\n",
    "tels"
   ]
  },
  {
   "cell_type": "code",
   "execution_count": 35,
   "id": "17edcc68",
   "metadata": {},
   "outputs": [
    {
     "data": {
      "text/plain": [
       "[]"
      ]
     },
     "execution_count": 35,
     "metadata": {},
     "output_type": "execute_result"
    }
   ],
   "source": [
    "email_pattern = r\"\\w+@\\w+(\\.\\w+){1,2}\"\n",
    "emails = re.findall(email_pattern, data)\n",
    "emails"
   ]
  },
  {
   "cell_type": "code",
   "execution_count": 36,
   "id": "b19b5b43",
   "metadata": {},
   "outputs": [
    {
     "data": {
      "text/plain": [
       "<re.Match object; span=(18, 29), match='02-888-8888'>"
      ]
     },
     "execution_count": 36,
     "metadata": {},
     "output_type": "execute_result"
    }
   ],
   "source": [
    "firstTel = re.search(tel_pattern, data)\n",
    "firstTel"
   ]
  },
  {
   "cell_type": "code",
   "execution_count": 37,
   "id": "c731b03c",
   "metadata": {},
   "outputs": [
    {
     "data": {
      "text/plain": [
       "<re.Match object; span=(18, 29), match='02-888-8888'>"
      ]
     },
     "execution_count": 37,
     "metadata": {},
     "output_type": "execute_result"
    }
   ],
   "source": [
    "tel_pattern = r\"(\\d{2,3})-(\\d{3,4})-(\\d{4})\"\n",
    "firstPhone = re.search(tel_pattern, data)\n",
    "firstPhone"
   ]
  },
  {
   "cell_type": "code",
   "execution_count": 39,
   "id": "e1334ae9",
   "metadata": {},
   "outputs": [
    {
     "name": "stdout",
     "output_type": "stream",
     "text": [
      "전체 전화번호: 02-888-8888\n",
      "국번: 02\n",
      "중간 전화번호: 888\n",
      "끝 전화번호: 8888\n"
     ]
    }
   ],
   "source": [
    "print('전체 전화번호:', firstPhone.group(0))\n",
    "print('국번:', firstPhone.group(1))\n",
    "print('중간 전화번호:', firstPhone.group(2))\n",
    "print('끝 전화번호:', firstPhone.group(3))"
   ]
  },
  {
   "cell_type": "code",
   "execution_count": 41,
   "id": "bc2e78c7",
   "metadata": {},
   "outputs": [
    {
     "name": "stdout",
     "output_type": "stream",
     "text": [
      "이름:홍길동, 주소:서울, 전화:02-888-8888, 핸드폰:010-9999-9999, 특징:동해번쩍 서해번쩍혈액형:Bㅋㅋ ㅋㅋzz\n"
     ]
    }
   ],
   "source": [
    "# data에서 특정한 데이터 제외\n",
    "re.sub(\"[^가-힣0-9A-Z\\s]\", ' ', data)\n",
    "print(data)"
   ]
  },
  {
   "cell_type": "code",
   "execution_count": null,
   "id": "381e2147",
   "metadata": {},
   "outputs": [],
   "source": []
  },
  {
   "cell_type": "code",
   "execution_count": null,
   "id": "703bfee4",
   "metadata": {},
   "outputs": [],
   "source": []
  }
 ],
 "metadata": {
  "kernelspec": {
   "display_name": "Python 3 (ipykernel)",
   "language": "python",
   "name": "python3"
  },
  "language_info": {
   "codemirror_mode": {
    "name": "ipython",
    "version": 3
   },
   "file_extension": ".py",
   "mimetype": "text/x-python",
   "name": "python",
   "nbconvert_exporter": "python",
   "pygments_lexer": "ipython3",
   "version": "3.10.9"
  },
  "toc": {
   "base_numbering": 1,
   "nav_menu": {},
   "number_sections": false,
   "sideBar": true,
   "skip_h1_title": false,
   "title_cell": "Table of Contents",
   "title_sidebar": "Contents",
   "toc_cell": false,
   "toc_position": {
    "height": "calc(100% - 180px)",
    "left": "10px",
    "top": "150px",
    "width": "194.391px"
   },
   "toc_section_display": true,
   "toc_window_display": true
  }
 },
 "nbformat": 4,
 "nbformat_minor": 5
}
