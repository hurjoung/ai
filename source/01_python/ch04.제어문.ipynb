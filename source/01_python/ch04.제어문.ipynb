{
 "cells": [
  {
   "cell_type": "code",
   "execution_count": 1,
   "id": "4075beb5",
   "metadata": {},
   "outputs": [
    {
     "data": {
      "text/html": [
       "\n",
       "<style>\n",
       "div.container{width:90% !important;}\n",
       "div.cell.code_cell.rendered{width:100%;}\n",
       "div.input_prompt{padding:0px;}\n",
       "div.CodeMirror {font-family:Consolas; font-size:12pt;}\n",
       "div.text_cell_render.rendered_html{font-size:12pt;}\n",
       "div.output {font-size:12pt; font-weight:bold;}\n",
       "div.input {font-family:Consolas; font-size:12pt;}\n",
       "div.prompt {min-width:70px;}\n",
       "div#toc-wrapper{padding-top:120px;}\n",
       "div.text_cell_render ul li{font-size:12pt;padding:5px;}\n",
       "table.dataframe{font-size:12px;}\n",
       "</style>\n"
      ],
      "text/plain": [
       "<IPython.core.display.HTML object>"
      ]
     },
     "metadata": {},
     "output_type": "display_data"
    }
   ],
   "source": [
    "from IPython.display import display, HTML\n",
    "display(HTML(\"\"\"\n",
    "<style>\n",
    "div.container{width:90% !important;}\n",
    "div.cell.code_cell.rendered{width:100%;}\n",
    "div.input_prompt{padding:0px;}\n",
    "div.CodeMirror {font-family:Consolas; font-size:12pt;}\n",
    "div.text_cell_render.rendered_html{font-size:12pt;}\n",
    "div.output {font-size:12pt; font-weight:bold;}\n",
    "div.input {font-family:Consolas; font-size:12pt;}\n",
    "div.prompt {min-width:70px;}\n",
    "div#toc-wrapper{padding-top:120px;}\n",
    "div.text_cell_render ul li{font-size:12pt;padding:5px;}\n",
    "table.dataframe{font-size:12px;}\n",
    "</style>\n",
    "\"\"\"))"
   ]
  },
  {
   "cell_type": "markdown",
   "id": "7e22499b",
   "metadata": {},
   "source": [
    "<b><font size=\"6\" color=\"red\">ch04. 제어문</font></b>\n",
    " - 조건문 : if문\n",
    " - 반복문 : for문(반복횟수), while문(조건)\n",
    " \n",
    "  ** 모두 중첩가능**\n",
    "  \n",
    " # 1절 조건문(if)\n",
    "```\n",
    " \n",
    " if 조건1:\n",
    "     조건1이 True일 경우 수행할 명령어들(들여쓰기 중요)\n",
    " else 조건2:\n",
    "     조건1이 False이고, 조건2가 True일 경우 수행할 명령어들\n",
    " else:\n",
    "     모든 조건 False일 경우 수행할 명령어들(elif나 else는 단독 사용 불가)\n",
    "\n",
    " ```"
   ]
  },
  {
   "cell_type": "code",
   "execution_count": 3,
   "id": "f016bb83",
   "metadata": {},
   "outputs": [
    {
     "name": "stdout",
     "output_type": "stream",
     "text": [
      "Enter your score >70\n",
      "분발하셔요\n",
      "뭐 그대로 고생하셨어요\n"
     ]
    }
   ],
   "source": [
    "score = int(input('Enter your score >'))\n",
    "if score>=80:\n",
    "    print('참 잘했어요')\n",
    "    print('다음에도 기대할께요')\n",
    "elif score>=60:\n",
    "    print('분발하셔요')\n",
    "    print('뭐 그대로 고생하셨어요')\n",
    "else:\n",
    "    print('재시험 응시하셔야 합니다')\n",
    "    print('화이팅')"
   ]
  },
  {
   "cell_type": "code",
   "execution_count": 11,
   "id": "bba8c5a6",
   "metadata": {},
   "outputs": [
    {
     "name": "stdout",
     "output_type": "stream",
     "text": [
      "Enter your score >101\n",
      "입력하신 점수 101점은 유효하지 않은 점수입니다.\n"
     ]
    }
   ],
   "source": [
    "# ex. 점수를 입력받아 학점출력(A,B,C,D,F, 유효하지 않은 점수)\n",
    "score = int(input('Enter your score >'))\n",
    "rank = ''\n",
    "rA = 90\n",
    "rB = 80\n",
    "rC = 70\n",
    "rD = 60\n",
    "if 100>=score>=rA:\n",
    "    rank = 'A학점'    \n",
    "elif rA>score>=rB:\n",
    "    rank = 'B학점'\n",
    "elif rB>score>=rC:\n",
    "    rank = 'C학점'\n",
    "elif rC>score>=rD:\n",
    "    rank = 'D학점'\n",
    "elif rD>score>=0:\n",
    "    rank = 'F학점'\n",
    "else:\n",
    "    rank = '유효하지 않은 점수'\n",
    "print('입력하신 점수 {}점은 {}입니다.'.format(score, rank))    "
   ]
  },
  {
   "cell_type": "markdown",
   "id": "242e7893",
   "metadata": {},
   "source": [
    "# 2절 반복문\n",
    "## 2.1 for-in문\n",
    "```\n",
    "for 임시변수 in 나열가능한 자료:\n",
    "    반복할 문장1\n",
    "    반복할 문장2\n",
    "else:\n",
    "    나열가능한 자료를 다 소요하여 for블록을 다 수행한 후, 최종 한번 실행할 문장들\n",
    "    for문안의 break를 수행할 경우, else블록을 수행안함.(else는 선택)\n",
    "```    "
   ]
  },
  {
   "cell_type": "code",
   "execution_count": 12,
   "id": "e9ff3887",
   "metadata": {},
   "outputs": [
    {
     "name": "stdout",
     "output_type": "stream",
     "text": [
      "5\t4\t3\t2\t1\tDONE\n",
      "END\n"
     ]
    }
   ],
   "source": [
    "for i in range(5, 0, -1):\n",
    "    print(i, end=\"\\t\")\n",
    "else:\n",
    "    print('DONE')\n",
    "print('END')"
   ]
  },
  {
   "cell_type": "code",
   "execution_count": 13,
   "id": "bbb5f1fc",
   "metadata": {},
   "outputs": [
    {
     "name": "stdout",
     "output_type": "stream",
     "text": [
      "0\t1\t2\t3\t4\tEND\n"
     ]
    }
   ],
   "source": [
    "for i in range(10):\n",
    "    if i==5:\n",
    "        break # 현재 반복문을 빠져나가\n",
    "    print(i, end=\"\\t\")\n",
    "else:\n",
    "    print('DONE')\n",
    "print('END')"
   ]
  },
  {
   "cell_type": "code",
   "execution_count": 15,
   "id": "51a62e77",
   "metadata": {},
   "outputs": [
    {
     "name": "stdout",
     "output_type": "stream",
     "text": [
      "1~100까지 합: 5050\n"
     ]
    }
   ],
   "source": [
    "# 1~100까지 합을 계산하고 출력하시오(for문)\n",
    "_sum = 0 #누적변수\n",
    "for i in range(1,101):\n",
    "    _sum += i # _sum = _sum + i\n",
    "else:\n",
    "    print('1~100까지 합:', _sum)\n",
    "    "
   ]
  },
  {
   "cell_type": "code",
   "execution_count": 16,
   "id": "034ec077",
   "metadata": {},
   "outputs": [
    {
     "name": "stdout",
     "output_type": "stream",
     "text": [
      "1~100까지 짝수 합: 2550\n"
     ]
    }
   ],
   "source": [
    "# 1~100까지 짝수들의 합을 계산하고 출력하시오(for문)\n",
    "_sum = 0 #누적변수\n",
    "for i in range(2,101,2):\n",
    "    _sum += i # _sum = _sum + i\n",
    "else:\n",
    "    print('1~100까지 짝수 합:', _sum)"
   ]
  },
  {
   "cell_type": "markdown",
   "id": "2faec143",
   "metadata": {},
   "source": [
    "## 2.2 while문\n",
    "```\n",
    "while 조건:\n",
    "    조건이 True일 경우 반복할 문장들\n",
    "else:\n",
    "    조건이 False일 경우 한번 실행할 문장들(else 구문 선택사항)\n",
    "    while문 내의 break 수행시 else 구문은 실행안됨.\n",
    "```"
   ]
  },
  {
   "cell_type": "code",
   "execution_count": 17,
   "id": "5da52186",
   "metadata": {},
   "outputs": [
    {
     "name": "stdout",
     "output_type": "stream",
     "text": [
      "1~100까지 짝수 합: 2550\n"
     ]
    }
   ],
   "source": [
    "# 1~100까지 짝수들의 합을 계산하고 출력하시오(while문)\n",
    "_sum = 0 #누적변수\n",
    "i = 1\n",
    "while i<= 100:\n",
    "    if i%2==0:\n",
    "        _sum += i # _sum = _sum + i\n",
    "    i += 1\n",
    "else:\n",
    "    print('1~100까지 짝수 합:', _sum)"
   ]
  },
  {
   "cell_type": "code",
   "execution_count": 27,
   "id": "9a773285",
   "metadata": {},
   "outputs": [],
   "source": [
    "# ex1. 사용자에게 두 정수를 입력받아, 작은수부터 큰수까지 홀수의 합을 누적해서 출력\n",
    "# 두 정수를 입력\n",
    "first = int(input('첫번째 정수?'))\n",
    "second = int(input('두번째 정수?'))\n",
    "# first에 작은값, second 큰값\n",
    "if first > second:\n",
    "    # 바꿔\n",
    "#     temp  = first; \n",
    "#     first = second\n",
    "#     second = first\n",
    "    first, second = second, first\n",
    "# 누적\n",
    "sum = 0\n",
    "for i in range(first, second+1):\n",
    "    if i%2: # (i%2==1) | (i%2==-1):\n",
    "        sum += i\n",
    "print(\"{}~{}까지 홀수들의 누적합은 {}\".format(first, second, sum))"
   ]
  },
  {
   "cell_type": "code",
   "execution_count": 5,
   "id": "ce1d1a23",
   "metadata": {},
   "outputs": [
    {
     "name": "stdout",
     "output_type": "stream",
     "text": [
      "6번 로또번호 추출함 : [9, 18, 22, 6, 1, 40]\n",
      "정렬후 : [1, 6, 9, 18, 22, 40]\n"
     ]
    }
   ],
   "source": [
    "# ex2. 로또번호 6개를 추출후, 정렬하여 출력 [45, 30, 2, 10, 12, 31]=>[2,10,12,30,31,45]\n",
    "import random\n",
    "# random.seed(3)\n",
    "# random.random() # 0이상 1미만의 실수 난수\n",
    "# random.choice(['남자','여자']) # 남자나 여자를 선택(확률일치)\n",
    "# random.choices(['사기꾼','비사기꾼'], weights=[0.1, 0.9])\n",
    "# random.randint(1, 45) # 1~45의 정수 난수\n",
    "lotto_lst = [] # 추출된 로또번호를 담을 변수\n",
    "cnt = 0 # 임의의 수 발생 횟수\n",
    "while len(lotto_lst) < 6:\n",
    "    temp = random.randint(1, 45) # 임의의 수를 temp변수\n",
    "    cnt += 1\n",
    "    if not temp in lotto_lst:\n",
    "        lotto_lst.append(temp)\n",
    "print(\"{}번 로또번호 추출함 : {}\".format(cnt, lotto_lst))\n",
    "# 정렬 알고리즘\n",
    "for i in range(len(lotto_lst)-1):\n",
    "    for j in range(i+1, len(lotto_lst)):\n",
    "        if lotto_lst[i]>lotto_lst[j]:\n",
    "            lotto_lst[i], lotto_lst[j] = lotto_lst[j], lotto_lst[i]\n",
    "print('정렬후 :', lotto_lst)\n"
   ]
  },
  {
   "cell_type": "code",
   "execution_count": 6,
   "id": "dcaa76c5",
   "metadata": {},
   "outputs": [
    {
     "data": {
      "text/plain": [
       "[6, 11, 20, 27, 33, 41]"
      ]
     },
     "execution_count": 6,
     "metadata": {},
     "output_type": "execute_result"
    }
   ],
   "source": [
    "# set을 이용해서 풀이\n",
    "lotto_set = set() # 빈 셋\n",
    "\n",
    "while len(lotto_set)<6:\n",
    "    lotto_set.add(random.randint(1,45))\n",
    "\n",
    "sorted(lotto_set)"
   ]
  },
  {
   "cell_type": "code",
   "execution_count": 7,
   "id": "5b23fe7e",
   "metadata": {},
   "outputs": [
    {
     "data": {
      "text/plain": [
       "[14, 16, 24, 25, 26, 32]"
      ]
     },
     "execution_count": 7,
     "metadata": {},
     "output_type": "execute_result"
    }
   ],
   "source": [
    "# 1~45 중 6개를 뽑아 정렬\n",
    "sorted(random.sample(range(1,46), 6))"
   ]
  },
  {
   "cell_type": "markdown",
   "id": "a6578bc2",
   "metadata": {},
   "source": [
    "## 2.3 break, continue\n",
    " - break : 현재 반복문 탈출\n",
    " - continue : 수행중인 반복문을 멈추고 조건절로"
   ]
  },
  {
   "cell_type": "code",
   "execution_count": 8,
   "id": "7ffea99d",
   "metadata": {},
   "outputs": [
    {
     "name": "stdout",
     "output_type": "stream",
     "text": [
      "1 2 3 4 END\n"
     ]
    }
   ],
   "source": [
    "num = 0\n",
    "while num<10:\n",
    "    num += 1\n",
    "    if num == 5:\n",
    "        break\n",
    "    print(num, end=' ')\n",
    "print('END')"
   ]
  },
  {
   "cell_type": "code",
   "execution_count": 9,
   "id": "fe5d590f",
   "metadata": {},
   "outputs": [
    {
     "name": "stdout",
     "output_type": "stream",
     "text": [
      "1 2 3 4 6 7 8 9 10 END\n"
     ]
    }
   ],
   "source": [
    "num = 0\n",
    "while num<10:\n",
    "    num += 1\n",
    "    if num == 5:\n",
    "        # break\n",
    "        continue # 5만 빠짐\n",
    "    print(num, end=' ')\n",
    "print('END')"
   ]
  },
  {
   "cell_type": "code",
   "execution_count": 15,
   "id": "83e602c2",
   "metadata": {},
   "outputs": [
    {
     "data": {
      "text/plain": [
       "'\\n1~100 사이의 정수 맞추기 프로그램\\n(프로그램 안에서 random수가 만들어지고, 그 random수 맞추기)\\n1단계 : 숫자를 못 맞추면 UP/DOWN을 출력하고, 맞추면 축하메세지 출력하고, 종료\\n2단계 : 숫자를 못 맞추면 min(0), max(100)를 조정하고, 맞추면 축하메세지 출력하고 종료\\n3단계 : 2단계의 기회를 5회로 제한. 5회의 기회가 지나면 실패메세지 출력하고 종료.\\n        5회 이내에 맞추면 축하메세지 출력하고 종료\\n    (2단계와 3단계는 연습문제)\\n'"
      ]
     },
     "execution_count": 15,
     "metadata": {},
     "output_type": "execute_result"
    }
   ],
   "source": [
    "# 숫자 찾기 게임\n",
    "'''\n",
    "1~100 사이의 정수 맞추기 프로그램\n",
    "(프로그램 안에서 random수가 만들어지고, 그 random수 맞추기)\n",
    "1단계 : 숫자를 못 맞추면 UP/DOWN을 출력하고, 맞추면 축하메세지 출력하고, 종료\n",
    "2단계 : 숫자를 못 맞추면 min(0), max(100)를 조정하고, 맞추면 축하메세지 출력하고 종료\n",
    "3단계 : 2단계의 기회를 5회로 제한. 5회의 기회가 지나면 실패메세지 출력하고 종료.\n",
    "        5회 이내에 맞추면 축하메세지 출력하고 종료\n",
    "    (2단계와 3단계는 연습문제)\n",
    "'''"
   ]
  },
  {
   "cell_type": "code",
   "execution_count": 16,
   "id": "d835aca3",
   "metadata": {},
   "outputs": [
    {
     "name": "stdout",
     "output_type": "stream",
     "text": [
      "컴퓨터가 발생한 random 수 : 11\n",
      "1~100 사이의 수를 맞춰 보세요 :60\n",
      "DOWN ↓\n",
      "1~100 사이의 수를 맞춰 보세요 :30\n",
      "DOWN ↓\n",
      "1~100 사이의 수를 맞춰 보세요 :10\n",
      "UP ↑\n",
      "1~100 사이의 수를 맞춰 보세요 :11\n",
      "축하 축하 맞추셨습니다\n",
      "BYE\n"
     ]
    }
   ],
   "source": [
    "# 숫자 찾기 게임\n",
    "'''\n",
    "1~100 사이의 정수 맞추기 프로그램\n",
    "(프로그램 안에서 random수가 만들어지고, 그 random수 맞추기)\n",
    "1단계 : 숫자를 못 맞추면 UP/DOWN을 출력하고, 맞추면 축하메세지 출력하고, 종료\n",
    "2단계 : 숫자를 못 맞추면 min(0), max(100)를 조정하고, 맞추면 축하메세지 출력하고 종료\n",
    "3단계 : 2단계의 기회를 5회로 제한. 5회의 기회가 지나면 실패메세지 출력하고 종료.\n",
    "        5회 이내에 맞추면 축하메세지 출력하고 종료\n",
    "    (2단계와 3단계는 연습문제)\n",
    "'''\n",
    "import random\n",
    "randomNum = random.randint(1, 100)\n",
    "print(\"컴퓨터가 발생한 random 수 :\", randomNum)\n",
    "while True:\n",
    "    inputNum = int(input(\"1~100 사이의 수를 맞춰 보세요 :\"))\n",
    "    if (inputNum<1) | (inputNum>100):\n",
    "        print('수의 범위를 벗어났습니다')\n",
    "    elif randomNum < inputNum :\n",
    "        print('DOWN ↓')\n",
    "    elif randomNum > inputNum:\n",
    "        print('UP ↑')\n",
    "    else:\n",
    "        print(\"축하 축하 맞추셨습니다\")\n",
    "        break\n",
    "print(\"BYE\")"
   ]
  },
  {
   "cell_type": "code",
   "execution_count": 17,
   "id": "560f16c7",
   "metadata": {},
   "outputs": [
    {
     "name": "stdout",
     "output_type": "stream",
     "text": [
      "컴퓨터가 발생한 random 수 : 43\n",
      "1~100 사이의 수를 맞춰 보세요 :43\n",
      "축하 축하 맞추셨습니다\n",
      "BYE\n"
     ]
    }
   ],
   "source": [
    "# break 대체\n",
    "import random\n",
    "randomNum = random.randint(1, 100)\n",
    "print(\"컴퓨터가 발생한 random 수 :\", randomNum)\n",
    "inputNum = -1\n",
    "while randomNum != inputNum:\n",
    "    inputNum = int(input(\"1~100 사이의 수를 맞춰 보세요 :\"))\n",
    "    if (inputNum<1) | (inputNum>100):\n",
    "        print('수의 범위를 벗어났습니다')\n",
    "    elif randomNum < inputNum :\n",
    "        print('DOWN ↓')\n",
    "    elif randomNum > inputNum:\n",
    "        print('UP ↑')\n",
    "else:\n",
    "    print(\"축하 축하 맞추셨습니다\")\n",
    "print(\"BYE\")"
   ]
  },
  {
   "cell_type": "markdown",
   "id": "5226441f",
   "metadata": {},
   "source": [
    "# 3절. 중첩루프"
   ]
  },
  {
   "cell_type": "code",
   "execution_count": 18,
   "id": "700e1dd2",
   "metadata": {},
   "outputs": [
    {
     "name": "stdout",
     "output_type": "stream",
     "text": [
      "  2단  \t  3단  \t  4단  \t  5단  \t  6단  \t  7단  \t  8단  \t  9단  \t\n",
      "2x1= 2\t3x1= 3\t4x1= 4\t5x1= 5\t6x1= 6\t7x1= 7\t8x1= 8\t9x1= 9\t\n",
      "2x2= 4\t3x2= 6\t4x2= 8\t5x2=10\t6x2=12\t7x2=14\t8x2=16\t9x2=18\t\n",
      "2x3= 6\t3x3= 9\t4x3=12\t5x3=15\t6x3=18\t7x3=21\t8x3=24\t9x3=27\t\n",
      "2x4= 8\t3x4=12\t4x4=16\t5x4=20\t6x4=24\t7x4=28\t8x4=32\t9x4=36\t\n",
      "2x5=10\t3x5=15\t4x5=20\t5x5=25\t6x5=30\t7x5=35\t8x5=40\t9x5=45\t\n",
      "2x6=12\t3x6=18\t4x6=24\t5x6=30\t6x6=36\t7x6=42\t8x6=48\t9x6=54\t\n",
      "2x7=14\t3x7=21\t4x7=28\t5x7=35\t6x7=42\t7x7=49\t8x7=56\t9x7=63\t\n",
      "2x8=16\t3x8=24\t4x8=32\t5x8=40\t6x8=48\t7x8=56\t8x8=64\t9x8=72\t\n",
      "2x9=18\t3x9=27\t4x9=36\t5x9=45\t6x9=54\t7x9=63\t8x9=72\t9x9=81\t\n"
     ]
    }
   ],
   "source": [
    "# 2~9단 구구단 출력\n",
    "for i in range(2, 10):\n",
    "    print(\"{:^6}\".format(str(i)+'단'), end=\"\\t\")\n",
    "print() # 개행\n",
    "for i in range(1, 10):\n",
    "    for j in range(2, 10):\n",
    "        print(\"{}x{}={:2}\".format(j, i, i*j), end=\"\\t\")\n",
    "    print()"
   ]
  },
  {
   "cell_type": "code",
   "execution_count": 19,
   "id": "0f3f97b7",
   "metadata": {},
   "outputs": [
    {
     "name": "stdout",
     "output_type": "stream",
     "text": [
      "0행0열 : 1\t0행1열 : 2\t0행2열 : 3\t0행3열 : 4\t\n",
      "1행0열 : 5\t1행1열 : 6\t1행2열 : 7\t1행3열 : 8\t\n"
     ]
    }
   ],
   "source": [
    "lst_2d = [[1, 2, 3, 4],\n",
    "          [5, 6, 7, 8]]\n",
    "for i in range(len(lst_2d)):  # 행\n",
    "    for j in range(len(lst_2d[i])):  # 열\n",
    "        print(\"{}행{}열 : {}\".format(i, j, lst_2d[i][j]), end=\"\\t\")\n",
    "    print()"
   ]
  },
  {
   "cell_type": "markdown",
   "id": "dc2c774b",
   "metadata": {},
   "source": [
    "# 4절. 중첩루프 탈출"
   ]
  },
  {
   "cell_type": "code",
   "execution_count": 20,
   "id": "11ca962c",
   "metadata": {},
   "outputs": [
    {
     "name": "stdout",
     "output_type": "stream",
     "text": [
      "0 1\n",
      "0 2\n",
      "a=1, b=1일때 break함\n",
      "2 1\n",
      "a=2, b=2일때 break함\n",
      "DONE\n"
     ]
    }
   ],
   "source": [
    "for a in range(0, 3): # a=0일때 1일때, 2일때\n",
    "    for b in range(1, 3): # b=1일때, 2일때\n",
    "        if a==b:\n",
    "            print(\"a={}, b={}일때 break함\".format(a, b))\n",
    "            break\n",
    "        print(a, b) \n",
    "    # break를 만나면 오는 곳\n",
    "    \n",
    "print('DONE')"
   ]
  },
  {
   "cell_type": "code",
   "execution_count": 1,
   "id": "86c4d447",
   "metadata": {},
   "outputs": [
    {
     "name": "stdout",
     "output_type": "stream",
     "text": [
      "0 1\n",
      "0 2\n",
      "DONE\n"
     ]
    }
   ],
   "source": [
    "# 중첩 루프 탈출 방법1. flag변수 이용\n",
    "flag = False # break를 만나면 True\n",
    "for a in range(0, 3): # a=0일때 1일때, 2일때\n",
    "    for b in range(1, 3): # b=1일때, 2일때\n",
    "        if a==b:\n",
    "            flag = True\n",
    "            break\n",
    "        print(a, b) \n",
    "    # break를 만나면 오는 곳\n",
    "    if flag:\n",
    "        break\n",
    "print('DONE')"
   ]
  },
  {
   "cell_type": "code",
   "execution_count": null,
   "id": "9874eea2",
   "metadata": {},
   "outputs": [],
   "source": [
    "# 중첩 루프 탈출 방법2. 예외(Exception)처리 이용\n",
    "# Exception을 상속받은 class\n",
    "class BreakOutLoopException(Exception):\n",
    "    pass"
   ]
  },
  {
   "cell_type": "code",
   "execution_count": 2,
   "id": "0539c486",
   "metadata": {},
   "outputs": [
    {
     "name": "stdout",
     "output_type": "stream",
     "text": [
      "0 1\n",
      "0 2\n",
      "a=1, b=1일때 break함\n",
      "DONE\n"
     ]
    }
   ],
   "source": [
    "try:\n",
    "    for a in range(0, 3): # a=0일때 1일때, 2일때\n",
    "        for b in range(1, 3): # b=1일때, 2일때\n",
    "            if a==b:\n",
    "                print(\"a={}, b={}일때 break함\".format(a, b))\n",
    "                # 중첩반복문 탈출(강제로 예외발생)\n",
    "                #raise Exception(\"중첩반복문 탈출\")\n",
    "                raise BreakOutLoopException(\"중첩반복문 탈출\")\n",
    "            print(a, b) \n",
    "        # break를 만나면 오는 곳\n",
    "except:\n",
    "    print('DONE')"
   ]
  },
  {
   "cell_type": "markdown",
   "id": "807e28ea",
   "metadata": {},
   "source": [
    "# 5절. 연습문제"
   ]
  },
  {
   "cell_type": "code",
   "execution_count": 48,
   "id": "a847bdae",
   "metadata": {},
   "outputs": [
    {
     "name": "stdout",
     "output_type": "stream",
     "text": [
      "양의 정수를 입력하세요2.2\n",
      "양의 정수를 입력하세요3\n",
      "입력하신 양의 정수는 3이고 홀수입니다\n"
     ]
    }
   ],
   "source": [
    "# 1. 양의 정수를 입력 받아 홀수인지 짝수인지를 판별하는 프로그램을 작성하세요 .\n",
    "# 양의 정수가 아니면 숫자를 다시 입력 받아야 합니다\n",
    "#inputStr = input('양의 정수를 입력하세요.')\n",
    "# print('입력값이 정수인지 여부:', inputStr.isdigit())\n",
    "\n",
    "# 1. 양의 정수를 입력 받아 홀수인지 짝수인지를 판별하는 프로그램\n",
    "inputStr = ''\n",
    "while (inputStr.isdigit()==False) | (inputStr=='0') :\n",
    "    inputStr = input('양의 정수를 입력하세요')\n",
    "    \n",
    "inputNum = int(inputStr)\n",
    "even_odd = '홀수' if inputNum%2 else '짝수'\n",
    "print('입력하신 양의 정수는 {}이고 {}입니다'.format(inputNum, even_odd))"
   ]
  },
  {
   "cell_type": "code",
   "execution_count": 11,
   "id": "aba30312",
   "metadata": {},
   "outputs": [
    {
     "name": "stdout",
     "output_type": "stream",
     "text": [
      "*****\n",
      "*****\n",
      "*****\n",
      "*****\n",
      "*****\n",
      "\n",
      "\n",
      "*\n",
      "**\n",
      "***\n",
      "****\n",
      "*****\n"
     ]
    }
   ],
   "source": [
    "#2. 중첩 for문으로 패턴별 출력\n",
    "# 별5개를 5번 출력\n",
    "_star = 5\n",
    "_cnt =5\n",
    "for _star in range(0,5):\n",
    "    for _cnt in range(5,6): \n",
    "        print('*'*_cnt)\n",
    "    \n",
    "print('')\n",
    "    \n",
    "for _star in range(0,6):\n",
    "    for _cnt in range(5,6): \n",
    "        print('*'*_star)"
   ]
  },
  {
   "cell_type": "code",
   "execution_count": 52,
   "id": "b7a0c84f",
   "metadata": {},
   "outputs": [
    {
     "name": "stdout",
     "output_type": "stream",
     "text": [
      "165\n"
     ]
    }
   ],
   "source": [
    "#3. 1~30까지 3의 배수를 출력\n",
    "sum = 0\n",
    "for i in range(1,31):\n",
    "    if i%3==0:\n",
    "        #print('3의 배수:::',i)\n",
    "        sum = sum + i\n",
    "    else:\n",
    "        pass\n",
    "print(sum)"
   ]
  },
  {
   "cell_type": "code",
   "execution_count": 13,
   "id": "f40c4aae",
   "metadata": {},
   "outputs": [
    {
     "name": "stdout",
     "output_type": "stream",
     "text": [
      "13579"
     ]
    }
   ],
   "source": [
    "#4.\"1 3 5 7 9\"\n",
    "num = 0\n",
    "while num<=10:\n",
    "    if num%2:\n",
    "        print(num, end='')\n",
    "    num += 1\n",
    "        "
   ]
  },
  {
   "cell_type": "code",
   "execution_count": 35,
   "id": "4dd8972a",
   "metadata": {},
   "outputs": [
    {
     "name": "stdout",
     "output_type": "stream",
     "text": [
      "123\n",
      "4567\n",
      "89\n"
     ]
    }
   ],
   "source": [
    "#5. \n",
    "list2d = [ [1,2,3],[4,5,6,7],[8,9]]\n",
    "for row in list2d:\n",
    "    for data in row:\n",
    "        print(data, end='')\n",
    "    print()"
   ]
  },
  {
   "cell_type": "code",
   "execution_count": 37,
   "id": "77148fe1",
   "metadata": {},
   "outputs": [
    {
     "name": "stdout",
     "output_type": "stream",
     "text": [
      "0 apple \n",
      "1 banana\n"
     ]
    }
   ],
   "source": [
    "#6. 함수 이름\n",
    "colors = {\" red\":'apple ', \"yellow\":'banana'}\n",
    "for i , v in enumerate(colors.values()):\n",
    "    print( i ,v)"
   ]
  },
  {
   "cell_type": "code",
   "execution_count": null,
   "id": "d77fb901",
   "metadata": {},
   "outputs": [],
   "source": [
    "#7.실행결과\n",
    "1 0"
   ]
  },
  {
   "cell_type": "code",
   "execution_count": null,
   "id": "aa114301",
   "metadata": {},
   "outputs": [],
   "source": [
    "#8. 4번"
   ]
  },
  {
   "cell_type": "code",
   "execution_count": null,
   "id": "3f412867",
   "metadata": {},
   "outputs": [],
   "source": [
    "#9. L = [3, 4, 5, 6, 7, 8, 9, 10]\n",
    "3 5 7 9"
   ]
  },
  {
   "cell_type": "code",
   "execution_count": 43,
   "id": "54213c37",
   "metadata": {},
   "outputs": [
    {
     "name": "stdout",
     "output_type": "stream",
     "text": [
      "컴퓨터가 발생한 random 수 : 8\n",
      "1~100 사이의 수를 맞춰 보세요 5번 남았습니다.:66\n",
      "DOWN ↓\n",
      "1~66 사이의 수를 맞춰 보세요 4번 남았습니다.:55\n",
      "DOWN ↓\n",
      "1~55 사이의 수를 맞춰 보세요 3번 남았습니다.:33\n",
      "DOWN ↓\n",
      "1~33 사이의 수를 맞춰 보세요 2번 남았습니다.:22\n",
      "DOWN ↓\n",
      "1~22 사이의 수를 맞춰 보세요 1번 남았습니다.:11\n",
      "DOWN ↓\n",
      "기회가 끝남!!!!\n",
      "BYE\n"
     ]
    }
   ],
   "source": [
    "#10. 1~100사이의 숫자 맞추기\n",
    "\n",
    "import random\n",
    "randomNum = random.randint(1, 100)\n",
    "print(\"컴퓨터가 발생한 random 수 :\", randomNum)\n",
    "inputNum = -1\n",
    "minInt = 1\n",
    "maxInt = 100\n",
    "chkCnt = 5\n",
    "\n",
    "while (randomNum != inputNum) & (chkCnt > 0):\n",
    "    inputNum = int(input(\"{}~{} 사이의 수를 맞춰 보세요 {}번 남았습니다.:\".format(minInt, maxInt, chkCnt)))\n",
    "    if (inputNum<1) | (inputNum>100):\n",
    "        print('수의 범위를 벗어났습니다')\n",
    "    elif randomNum < inputNum :\n",
    "        maxInt = inputNum-1\n",
    "        print('DOWN ↓')\n",
    "    elif randomNum > inputNum:\n",
    "        minInt = inputNum+1\n",
    "        print('UP ↑')\n",
    "    chkCnt -= 1\n",
    "else:\n",
    "    if chkCnt > 0:\n",
    "        print(\"축하 축하 맞추셨습니다\")\n",
    "    else:\n",
    "        print(\"기회가 끝남!!!!\")\n",
    "print(\"BYE\")"
   ]
  }
 ],
 "metadata": {
  "kernelspec": {
   "display_name": "Python 3 (ipykernel)",
   "language": "python",
   "name": "python3"
  },
  "language_info": {
   "codemirror_mode": {
    "name": "ipython",
    "version": 3
   },
   "file_extension": ".py",
   "mimetype": "text/x-python",
   "name": "python",
   "nbconvert_exporter": "python",
   "pygments_lexer": "ipython3",
   "version": "3.10.9"
  },
  "toc": {
   "base_numbering": 1,
   "nav_menu": {},
   "number_sections": false,
   "sideBar": true,
   "skip_h1_title": false,
   "title_cell": "Table of Contents",
   "title_sidebar": "Contents",
   "toc_cell": false,
   "toc_position": {
    "height": "calc(100% - 180px)",
    "left": "10px",
    "top": "150px",
    "width": "326.391px"
   },
   "toc_section_display": true,
   "toc_window_display": true
  }
 },
 "nbformat": 4,
 "nbformat_minor": 5
}
