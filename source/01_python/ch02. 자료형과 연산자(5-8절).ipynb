{
 "cells": [
  {
   "cell_type": "code",
   "execution_count": 3,
   "id": "a99f64a7",
   "metadata": {},
   "outputs": [
    {
     "data": {
      "text/html": [
       "\n",
       "<style>\n",
       "div.container{width:90% !important;}\n",
       "div.cell.code_cell.rendered{width:100%;}\n",
       "div.input_prompt{padding:0px;}\n",
       "div.CodeMirror {font-family:Consolas; font-size:12pt;}\n",
       "div.text_cell_render.rendered_html{font-size:12pt;}\n",
       "div.output {font-size:12pt; font-weight:bold;}\n",
       "div.input {font-family:Consolas; font-size:12pt;}\n",
       "div.prompt {min-width:70px;}\n",
       "div#toc-wrapper{padding-top:120px;}\n",
       "div.text_cell_render ul li{font-size:12pt;padding:5px;}\n",
       "table.dataframe{font-size:12px;}\n",
       "</style>\n"
      ],
      "text/plain": [
       "<IPython.core.display.HTML object>"
      ]
     },
     "metadata": {},
     "output_type": "display_data"
    }
   ],
   "source": [
    "from IPython.display import display, HTML\n",
    "display(HTML(\"\"\"\n",
    "<style>\n",
    "div.container{width:90% !important;}\n",
    "div.cell.code_cell.rendered{width:100%;}\n",
    "div.input_prompt{padding:0px;}\n",
    "div.CodeMirror {font-family:Consolas; font-size:12pt;}\n",
    "div.text_cell_render.rendered_html{font-size:12pt;}\n",
    "div.output {font-size:12pt; font-weight:bold;}\n",
    "div.input {font-family:Consolas; font-size:12pt;}\n",
    "div.prompt {min-width:70px;}\n",
    "div#toc-wrapper{padding-top:120px;}\n",
    "div.text_cell_render ul li{font-size:12pt;padding:5px;}\n",
    "table.dataframe{font-size:12px;}\n",
    "</style>\n",
    "\"\"\"))\n"
   ]
  },
  {
   "cell_type": "markdown",
   "id": "f5780771",
   "metadata": {},
   "source": [
    "<b><font size=\"6\" color=\"red\">ch02. 자료형과 연산자</font></b>\n",
    "# 5 절 연산자\n",
    "## 5.1 산술연산자 : +, -, *, /(결과 float), //(몫), %(나머지), **(제곱)"
   ]
  },
  {
   "cell_type": "code",
   "execution_count": 8,
   "id": "b5e761c4",
   "metadata": {
    "scrolled": true
   },
   "outputs": [
    {
     "name": "stdout",
     "output_type": "stream",
     "text": [
      "10*5승 = 100000\n",
      "5/2(결과 실수) = 2.5\n",
      "5//2(몫) = 2\n",
      "5%2(나머지) = 1\n"
     ]
    }
   ],
   "source": [
    "print(\"10*5승 =\", 10**5)\n",
    "print(\"5/2(결과 실수) =\", 5/2)\n",
    "print(\"5//2(몫) =\", 5//2)\n",
    "print(\"5%2(나머지) =\", 5%2)"
   ]
  },
  {
   "cell_type": "code",
   "execution_count": 9,
   "id": "7a9115e2",
   "metadata": {},
   "outputs": [
    {
     "name": "stdout",
     "output_type": "stream",
     "text": [
      "4**2 = 16.0\n"
     ]
    }
   ],
   "source": [
    "# 정수끼리 연산은 결과가 정수(단 / 제외)\n",
    "# 정수와 실수, 실수끼리 연산 결과는 실수\n",
    "print(\"4**2 =\", 4**2.0)"
   ]
  },
  {
   "cell_type": "code",
   "execution_count": 7,
   "id": "8fcc23fb",
   "metadata": {},
   "outputs": [
    {
     "name": "stdout",
     "output_type": "stream",
     "text": [
      "정수를 입력하세요:6\n",
      "입력하신 수는 6, 2로 나눈 나머지는 0라서 짝수를 입력하셨습니다\n"
     ]
    }
   ],
   "source": [
    "# quiz1. 정수를 입력받아 짝수인지 홀수인지 여부를 출력\n",
    "num = int(input(\"정수를 입력하세요:\"))\n",
    "result = num % 2 # -1, 0, 1\n",
    "if result:\n",
    "    temp = \"홀수\"\n",
    "else:\n",
    "    temp = \"짝수\"\n",
    "print(f\"입력하신 수는 {num}, 2로 나눈 나머지는 {result}라서 {temp}를 입력하셨습니다\")"
   ]
  },
  {
   "cell_type": "code",
   "execution_count": 31,
   "id": "56ac19e7",
   "metadata": {},
   "outputs": [
    {
     "name": "stdout",
     "output_type": "stream",
     "text": [
      "정수를 입력하세요:3\n",
      "입력하신 수는 3, 5로 나눈 나머지는 3라서 5의 배수가 아님을/를 입력하셨습니다\n"
     ]
    }
   ],
   "source": [
    "# quiz2. 정수를 입력받아 5의 배수인지 여부 출력 \n",
    "num1 = int(input(\"정수를 입력하세요:\"))\n",
    "result1 = num1 % 5\n",
    "\n",
    "if result1 != 0:\n",
    "    temp1 = '5의 배수가 아님'\n",
    "else:\n",
    "    temp1 = '5의 배수가 맞음'\n",
    "\n",
    "print(f\"입력하신 수는 {num1}, 5로 나눈 나머지는 {result1}라서 {temp1}을/를 입력하셨습니다\")\n"
   ]
  },
  {
   "cell_type": "code",
   "execution_count": 41,
   "id": "2da790b6",
   "metadata": {},
   "outputs": [
    {
     "name": "stdout",
     "output_type": "stream",
     "text": [
      "국어를 입력하세요:98\n",
      "영어를 입력하세요:11\n",
      "수학를 입력하세요:90\n",
      "국어: 98\t영어: 11\t수학: 90\n",
      "총점:199\t평균: 66.3\n"
     ]
    }
   ],
   "source": [
    "# quiz3. 국 , 영 , 수 점수를 입력받아 다음셀에서 다음과 같이 출력하도록 구현\n",
    "# 국어: 99  영어:100 수학:99\n",
    "# 총점: 298 평균:99.3\n",
    "\n",
    "n1 = int(input(\"국어를 입력하세요:\"))\n",
    "n2 = int(input(\"영어를 입력하세요:\"))\n",
    "n3 = int(input(\"수학를 입력하세요:\"))\n",
    "total1 = n1 + n2 + n3\n",
    "avg1 = (n1 + n2 + n3)/3\n",
    "print(\"국어:{:3}\\t영어:{:3}\\t수학:{:3}\\n총점:{:3}\\t평균:{:5.1f}\".format(n1,n2,n3,total1, avg1))"
   ]
  },
  {
   "cell_type": "markdown",
   "id": "d1401b54",
   "metadata": {},
   "source": [
    "## 5.2 할당 연산자 : =, +=, -=, /=, *=, //=, %="
   ]
  },
  {
   "cell_type": "code",
   "execution_count": 42,
   "id": "c3085e2a",
   "metadata": {},
   "outputs": [
    {
     "name": "stdout",
     "output_type": "stream",
     "text": [
      "a = 15\n"
     ]
    }
   ],
   "source": [
    "a = 10\n",
    "a += 5 # a = a + 5와 동일\n",
    "print(f\"a = {a}\")"
   ]
  },
  {
   "cell_type": "code",
   "execution_count": 43,
   "id": "c2ae8fff",
   "metadata": {},
   "outputs": [
    {
     "name": "stdout",
     "output_type": "stream",
     "text": [
      "5빼기 : 10\n",
      "10배 : 100\n",
      "5나눈 몫 : 20\n"
     ]
    }
   ],
   "source": [
    "a -= 5 # a = a-5\n",
    "print(\"5빼기 :\", a) # 10\n",
    "a *= 10 # a = a*10\n",
    "print(\"10배 :\", a) #100\n",
    "a //= 5 # a = a//5\n",
    "print(\"5나눈 몫 :\", a)"
   ]
  },
  {
   "cell_type": "markdown",
   "id": "e8007aac",
   "metadata": {},
   "source": [
    "## 5.3 논리연산자 : &, and, |, or, not"
   ]
  },
  {
   "cell_type": "code",
   "execution_count": 53,
   "id": "9757f3a4",
   "metadata": {},
   "outputs": [
    {
     "name": "stdout",
     "output_type": "stream",
     "text": [
      "True\n",
      "0\n"
     ]
    }
   ],
   "source": [
    "# & : 논리연산자, 비트연산자\n",
    "print( (10>3) & (10>5) ) # 논리연산 True & True\n",
    "print( 12 & 1 ) # 비트 연산  1 1 0 0 (12)\n",
    "                       #    0 0 0 1  (1)\n",
    "                       # &: 0 0 0 0"
   ]
  },
  {
   "cell_type": "code",
   "execution_count": 54,
   "id": "5bcccbe6",
   "metadata": {},
   "outputs": [
    {
     "name": "stdout",
     "output_type": "stream",
     "text": [
      "True\n",
      "0\n"
     ]
    }
   ],
   "source": [
    "# and : 논리연산자.  False로 판별되는 첫번째 항의 결과 반환\n",
    "         # 모든 항이 True면, 마지막항의 결과 반환\n",
    "print( (10>3) and (10>5) )\n",
    "print( 0 and 1 ) "
   ]
  },
  {
   "cell_type": "code",
   "execution_count": 55,
   "id": "f58d8ee9",
   "metadata": {},
   "outputs": [
    {
     "name": "stdout",
     "output_type": "stream",
     "text": [
      "논리연산(연산자 앞뒤에 논리형일 때) : True\n",
      "비트연산(연산자 앞이나 뒤에 숫자일 때) : 3\n"
     ]
    }
   ],
   "source": [
    "# | : 논리연산, 비트연산\n",
    "result = True | False\n",
    "print('논리연산(연산자 앞뒤에 논리형일 때) :', result)\n",
    "result = False | 3 # 0000 (0)\n",
    "                   # 0011 (3)\n",
    "print('비트연산(연산자 앞이나 뒤에 숫자일 때) :', result)"
   ]
  },
  {
   "cell_type": "code",
   "execution_count": 56,
   "id": "26b08d51",
   "metadata": {},
   "outputs": [
    {
     "name": "stdout",
     "output_type": "stream",
     "text": [
      "[]\n",
      "Hong\n"
     ]
    }
   ],
   "source": [
    "\n",
    "# or : 논리연산. 참으로 판별되는 첫번째 항의 결과 반환\n",
    "          # 모든 항이 거짓이면 마지막항의 결과 반환\n",
    "print(False or 0 or '' or None or [])\n",
    "print(False or 0 or 'Hong' or None or [])"
   ]
  },
  {
   "cell_type": "code",
   "execution_count": 57,
   "id": "7027292c",
   "metadata": {},
   "outputs": [
    {
     "data": {
      "text/plain": [
       "False"
      ]
     },
     "execution_count": 57,
     "metadata": {},
     "output_type": "execute_result"
    }
   ],
   "source": [
    "not 10>5"
   ]
  },
  {
   "cell_type": "markdown",
   "id": "15831a3a",
   "metadata": {},
   "source": [
    "## 5.4 비교연산자 : >, >=, <, <=, ==, !="
   ]
  },
  {
   "cell_type": "code",
   "execution_count": 60,
   "id": "7d6c8771",
   "metadata": {},
   "outputs": [
    {
     "name": "stdout",
     "output_type": "stream",
     "text": [
      "True\n",
      "True\n",
      "True\n"
     ]
    }
   ],
   "source": [
    "# 비교연산자는 이항, 삼항, 사항, ... 다항연산자\n",
    "x = 95\n",
    "print( (90<=x) & (x<=100) )\n",
    "print( 90 <= x <= 100)\n",
    "print( 90 <= x <= 100 > 10)"
   ]
  },
  {
   "cell_type": "code",
   "execution_count": 61,
   "id": "985959a5",
   "metadata": {},
   "outputs": [
    {
     "name": "stdout",
     "output_type": "stream",
     "text": [
      "True\n",
      "False\n",
      "False\n"
     ]
    }
   ],
   "source": [
    "# 비교연산자의 우선순위가 비트연산자(|,&)의 우선순위보다 낮다\n",
    "print( (10>5) & (10>7) )\n",
    "print( 10>5 & 10>7 ) # 괄호가 없으면 우선순위가 높은 5&10부터 실행\n",
    "print( 10 > 0 > 7)\n",
    "# 0101(5) & 1010(10)"
   ]
  },
  {
   "cell_type": "code",
   "execution_count": null,
   "id": "10b32875",
   "metadata": {},
   "outputs": [],
   "source": [
    "address = '목동'\n",
    "age = 29\n",
    "#print( address=='목동' & age<= 30)\n",
    "print( (address=='목동') & (age<= 30)\n",
    "print( address=='목동' and age<= 30)"
   ]
  },
  {
   "cell_type": "code",
   "execution_count": null,
   "id": "e00311a0",
   "metadata": {},
   "outputs": [],
   "source": [
    "#문자는 ASCII 코드 순으로 비교 : 특수문자 < 숫자 < 대문자 < 소문자\n",
    "\"scott\" < \"tiger\""
   ]
  },
  {
   "cell_type": "code",
   "execution_count": null,
   "id": "2c035fb0",
   "metadata": {},
   "outputs": [],
   "source": []
  },
  {
   "cell_type": "markdown",
   "id": "97d6a682",
   "metadata": {},
   "source": [
    "## 5.5 비트연산 : &, |, ^(XOR), ~(반대)\n",
    "\n",
    "    x    y    x&y    x|y    x^y    ~x\n",
    "    ---------------------------------\n",
    "    0    0     0      0      0     1\n",
    "    0    1     0      1      1     1\n",
    "    1    0     0      1      1     0\n",
    "    1    1     1      1      0     0"
   ]
  },
  {
   "cell_type": "code",
   "execution_count": 2,
   "id": "fa380a4c",
   "metadata": {},
   "outputs": [
    {
     "name": "stdout",
     "output_type": "stream",
     "text": [
      "  a = 15 : 1111\n",
      "  b =  2 : 0010\n",
      "a&b =  2 : 0010\n",
      "a|b = 15 : 1111\n",
      "a^b = 13 : 1101\n",
      "-16\n"
     ]
    }
   ],
   "source": [
    "a = 15 # 1111(8+4+2+1)\n",
    "b =  2 # 0010\n",
    "print(\"  a = {0:2} : {0:04b}\".format(a))\n",
    "print(\"  b = {0:2} : {0:04b}\".format(b))\n",
    "print(\"a&b = {0:2} : {0:04b}\".format(a&b))\n",
    "print(\"a|b = {0:2} : {0:04b}\".format(a|b))\n",
    "print(\"a^b = {0:2} : {0:04b}\".format(a^b))\n",
    "print(~a)"
   ]
  },
  {
   "cell_type": "markdown",
   "id": "e07489fa",
   "metadata": {},
   "source": [
    "# 6절 문자열 다루기\n",
    " \n",
    " - 문자열변수[from:to:step] : 일부 문자 추출\n",
    " - len(문자열변수) : 문자수\n",
    " - upper() :문자로\n",
    " - lower() : 소문자로\n",
    " - title() : 각 어절의 앞글자만 대문자로\n",
    " - capitalize() : 첫문자만 대문자\n",
    " - count('찾을문자') : 찾을 문자가 몇개 들어있는지 객수 반환\n",
    " - find('찾을문자') : 찾을 문자가 왼쪽부터 몇번째에 있는지 index를 반환(없으면 -1)\n",
    " - rfind('찾을문자') : 찾을 문자가 오른쪽부터 몇번째에 있는지 index를 반환(없으면 -1)\n",
    " - index('찾을문자') : 찾을 문자가 왼쪽부터 몇번째에 있는지 index를 반환(없으면 오류)\n",
    " - startswith(\"특정문자\") : 특정문자로 시작 여부 반환\n",
    " - endswith(\"특정문자\") : 특정문자로 끝나는지 여부 반환\n",
    " \n",
    " - strip() : 좌우공백제거\n",
    " - lstrip() : 왼쪽공백제거\n",
    " - rstrip() : 오른쪽공백제거\n",
    " - split() : 문자열을 공백이나 다른 문자 기준으로 나누어 리스트로 반환\n",
    " - isdigit() : 문자열이 숫자문자열인지 여부 반환\n",
    " - islower() : 문자열이 소문자인지 여부 반환\n",
    " - isupper() : 문자열이 대문자인지 여부 반환\n",
    " - replace(oldStr, newStr) : oldStr를 newStr로 변경"
   ]
  },
  {
   "cell_type": "code",
   "execution_count": 1,
   "id": "0820790a",
   "metadata": {},
   "outputs": [
    {
     "data": {
      "text/plain": [
       "1000"
      ]
     },
     "execution_count": 1,
     "metadata": {},
     "output_type": "execute_result"
    }
   ],
   "source": [
    "int('1,000'.replace(',',''))"
   ]
  },
  {
   "cell_type": "code",
   "execution_count": 3,
   "id": "1a63cf56",
   "metadata": {},
   "outputs": [
    {
     "data": {
      "text/plain": [
       "('python is easy. python is smart. python', 39)"
      ]
     },
     "execution_count": 3,
     "metadata": {},
     "output_type": "execute_result"
    }
   ],
   "source": [
    "temp = 'python is easy. python is smart. python'\n",
    "temp, len(temp)"
   ]
  },
  {
   "cell_type": "code",
   "execution_count": 6,
   "id": "1259722f",
   "metadata": {},
   "outputs": [
    {
     "name": "stdout",
     "output_type": "stream",
     "text": [
      "대문자로 : PYTHON IS EASY. PYTHON IS SMART. PYTHON\n",
      "소문자로 : python is easy. python is smart. python\n",
      "title() : Python Is Easy. Python Is Smart. Python\n",
      "capitalize() : Python is easy. python is smart. python\n",
      "C이 몇번 나오는지 : 0\n",
      "python이 몇번 나오는지 : 2\n",
      "대소문자 구분없이 python이 몇번 : 3\n",
      "대소문자 구분없이 python이 몇번 : 3\n",
      "대소문자 구분없이 python이 몇번 : 3\n",
      "python이 나오는 첫index 위치 : 0\n",
      "python이 나오는 마지막 index 위치 : 33\n",
      "C가 나오는 index위치 : -1\n",
      "python이 나오는 첫 index 위치 : 0\n",
      "python으로 시작하는 여부 : True\n",
      "대소문자 구분없이 python으로 시작하는 여부 : True\n",
      "python으로 끝나는지 여부 : True\n",
      "n으로 끝나는지 여부 : True\n",
      "python을 R로 변경 : R is easy. Python is smart. R\n",
      "python is easy. Python is smart. python\n"
     ]
    }
   ],
   "source": [
    "temp = \"python is easy. Python is smart. python\"\n",
    "    #   0123456789012345687901234567890123\n",
    "print(\"대문자로 :\", temp.upper())\n",
    "print(\"소문자로 :\", temp.lower())\n",
    "print(\"title() :\", temp.title())\n",
    "print(\"capitalize() :\", temp.capitalize())\n",
    "print(\"C이 몇번 나오는지 :\", temp.count(\"C\"))\n",
    "print(\"python이 몇번 나오는지 :\", temp.count(\"python\"))\n",
    "print(\"대소문자 구분없이 python이 몇번 :\", temp.lower().count(\"python\"))\n",
    "print(\"대소문자 구분없이 python이 몇번 :\", temp.upper().count(\"PYTHON\"))\n",
    "print(\"대소문자 구분없이 python이 몇번 :\", temp.title().count(\"Python\"))\n",
    "print(\"python이 나오는 첫index 위치 :\", temp.find(\"python\"))\n",
    "print(\"python이 나오는 마지막 index 위치 :\", temp.rfind(\"python\"))\n",
    "print(\"C가 나오는 index위치 :\", temp.find(\"C\")) # 찾을문자가 없을 경우 -1\n",
    "print(\"python이 나오는 첫 index 위치 :\", temp.index(\"python\"))\n",
    "# print(\"java이 나오는 첫 index 위치 :\", temp.index(\"java\")) 찾을문자가 없을 경우 에러\n",
    "print(\"python으로 시작하는 여부 :\",  temp.startswith(\"python\"))\n",
    "print(\"대소문자 구분없이 python으로 시작하는 여부 :\",  temp.lower().startswith(\"python\"))\n",
    "print(\"python으로 끝나는지 여부 :\", temp.endswith(\"python\"))\n",
    "print(\"n으로 끝나는지 여부 :\", temp.endswith(\"n\"))\n",
    "print(\"python을 R로 변경 :\", temp.replace(\"python\", \"R\"))\n",
    "print(temp)"
   ]
  },
  {
   "cell_type": "code",
   "execution_count": 7,
   "id": "33bd6eaa",
   "metadata": {},
   "outputs": [
    {
     "name": "stdout",
     "output_type": "stream",
     "text": [
      "좌우 공백 제거 : [python is easy]\n",
      "왼쪽 공백 제거 : [python is easy    ]\n",
      "오른쪽 공백 제거 : [    python is easy]\n",
      "isdigit(숫자문자)인지 여부 : False\n",
      "replace후 isdigit : True\n",
      "대문자인지 여부 : False\n",
      "소문자인지 여부 : True\n"
     ]
    }
   ],
   "source": [
    "temp = \"    python is easy    \"\n",
    "notdigit = \"1,000\"\n",
    "print(\"좌우 공백 제거 : [{}]\".format(temp.strip()) )\n",
    "print(\"왼쪽 공백 제거 : [{}]\".format(temp.lstrip()) )\n",
    "print(\"오른쪽 공백 제거 : [{}]\".format(temp.rstrip()) )\n",
    "print(\"isdigit(숫자문자)인지 여부 :\", notdigit.isdigit())\n",
    "print(\"replace후 isdigit :\", notdigit.replace(\",\", \"\").isdigit())\n",
    "print(\"대문자인지 여부 :\", temp.isupper())\n",
    "print(\"소문자인지 여부 :\", temp.islower())"
   ]
  },
  {
   "cell_type": "code",
   "execution_count": 10,
   "id": "535d5f08",
   "metadata": {},
   "outputs": [
    {
     "name": "stdout",
     "output_type": "stream",
     "text": [
      "space단위로 names 분리(list로 반환) : ['홍길동', '김길동', '박길동', '주길동', '고길동']\n",
      "홍길동 김길동\n"
     ]
    }
   ],
   "source": [
    "names = \"홍길동 김길동    박길동 주길동 고길동\"\n",
    "name_list = names.split()\n",
    "print('space단위로 names 분리(list로 반환) :', name_list)\n",
    "print(name_list[0], name_list[1])"
   ]
  },
  {
   "cell_type": "code",
   "execution_count": 12,
   "id": "a2a95dd2",
   "metadata": {},
   "outputs": [
    {
     "name": "stdout",
     "output_type": "stream",
     "text": [
      "2025-09-17\n",
      "년도 : 2025\n",
      "월 : 09\n",
      "일 : 17\n"
     ]
    }
   ],
   "source": [
    "date_str = '2025-09-17'\n",
    "date_list = date_str.split('-')\n",
    "print(date_str)\n",
    "print('년도 :', date_list[0])\n",
    "print('월 :', date_list[1])\n",
    "print('일 :', date_list[2])"
   ]
  },
  {
   "cell_type": "code",
   "execution_count": 17,
   "id": "8ac52d6b",
   "metadata": {},
   "outputs": [
    {
     "name": "stdout",
     "output_type": "stream",
     "text": [
      "분리된 temp : ['Python', '웹(HTML/CSS/JS)', 'Oracle/MySQL(DBMS)', 'DL/ML', 'LLM(RAG)']\n",
      "join temp : Python/웹(HTML/CSS/JS)/Oracle/MySQL(DBMS)/DL/ML/LLM(RAG)\n"
     ]
    }
   ],
   "source": [
    "# ' - '을 \"/\"로 바꾸기\n",
    "temp = \"Python - 웹(HTML/CSS/JS) - Oracle/MySQL(DBMS) - DL/ML - LLM(RAG)\"\n",
    "# temp.replace(\" - \", \"/\")\n",
    "# split()와 join() 이용하여 replace역할\n",
    "splited_temp = temp.split(\" - \")\n",
    "print('분리된 temp :', splited_temp)\n",
    "joined_temp = \"/\".join(splited_temp) # \"/\"로 매개변수 list를 연결\n",
    "print(\"join temp :\", joined_temp)"
   ]
  },
  {
   "cell_type": "code",
   "execution_count": 18,
   "id": "a2136a3c",
   "metadata": {},
   "outputs": [
    {
     "data": {
      "text/plain": [
       "['__add__',\n",
       " '__class__',\n",
       " '__contains__',\n",
       " '__delattr__',\n",
       " '__dir__',\n",
       " '__doc__',\n",
       " '__eq__',\n",
       " '__format__',\n",
       " '__ge__',\n",
       " '__getattribute__',\n",
       " '__getitem__',\n",
       " '__getnewargs__',\n",
       " '__gt__',\n",
       " '__hash__',\n",
       " '__init__',\n",
       " '__init_subclass__',\n",
       " '__iter__',\n",
       " '__le__',\n",
       " '__len__',\n",
       " '__lt__',\n",
       " '__mod__',\n",
       " '__mul__',\n",
       " '__ne__',\n",
       " '__new__',\n",
       " '__reduce__',\n",
       " '__reduce_ex__',\n",
       " '__repr__',\n",
       " '__rmod__',\n",
       " '__rmul__',\n",
       " '__setattr__',\n",
       " '__sizeof__',\n",
       " '__str__',\n",
       " '__subclasshook__',\n",
       " 'capitalize',\n",
       " 'casefold',\n",
       " 'center',\n",
       " 'count',\n",
       " 'encode',\n",
       " 'endswith',\n",
       " 'expandtabs',\n",
       " 'find',\n",
       " 'format',\n",
       " 'format_map',\n",
       " 'index',\n",
       " 'isalnum',\n",
       " 'isalpha',\n",
       " 'isascii',\n",
       " 'isdecimal',\n",
       " 'isdigit',\n",
       " 'isidentifier',\n",
       " 'islower',\n",
       " 'isnumeric',\n",
       " 'isprintable',\n",
       " 'isspace',\n",
       " 'istitle',\n",
       " 'isupper',\n",
       " 'join',\n",
       " 'ljust',\n",
       " 'lower',\n",
       " 'lstrip',\n",
       " 'maketrans',\n",
       " 'partition',\n",
       " 'removeprefix',\n",
       " 'removesuffix',\n",
       " 'replace',\n",
       " 'rfind',\n",
       " 'rindex',\n",
       " 'rjust',\n",
       " 'rpartition',\n",
       " 'rsplit',\n",
       " 'rstrip',\n",
       " 'split',\n",
       " 'splitlines',\n",
       " 'startswith',\n",
       " 'strip',\n",
       " 'swapcase',\n",
       " 'title',\n",
       " 'translate',\n",
       " 'upper',\n",
       " 'zfill']"
      ]
     },
     "execution_count": 18,
     "metadata": {},
     "output_type": "execute_result"
    }
   ],
   "source": [
    "#문자열을 다룰 수 있는 함수들 목록\n",
    "dir(str)"
   ]
  },
  {
   "cell_type": "markdown",
   "id": "be862efd",
   "metadata": {},
   "source": [
    "# 7절. 시간/날짜 다루기"
   ]
  },
  {
   "cell_type": "code",
   "execution_count": 19,
   "id": "c6e4732c",
   "metadata": {},
   "outputs": [
    {
     "data": {
      "text/plain": [
       "'C:\\\\Users\\\\Admin\\\\anaconda3\\\\lib\\\\datetime.py'"
      ]
     },
     "execution_count": 19,
     "metadata": {},
     "output_type": "execute_result"
    }
   ],
   "source": [
    "import datetime\n",
    "datetime.__file__"
   ]
  },
  {
   "cell_type": "code",
   "execution_count": 20,
   "id": "425e08c7",
   "metadata": {},
   "outputs": [],
   "source": [
    "from datetime import datetime, date, time"
   ]
  },
  {
   "cell_type": "markdown",
   "id": "c8a93a39",
   "metadata": {},
   "source": [
    "## 7.1 시간과 날짜"
   ]
  },
  {
   "cell_type": "code",
   "execution_count": 23,
   "id": "0ca00ae3",
   "metadata": {},
   "outputs": [
    {
     "data": {
      "text/plain": [
       "datetime.datetime(2025, 9, 11, 9, 30)"
      ]
     },
     "execution_count": 23,
     "metadata": {},
     "output_type": "execute_result"
    }
   ],
   "source": [
    "thatday = datetime(2025, 9, 11, 9, 30)\n",
    "thatday"
   ]
  },
  {
   "cell_type": "code",
   "execution_count": 24,
   "id": "818d8942",
   "metadata": {},
   "outputs": [
    {
     "name": "stdout",
     "output_type": "stream",
     "text": [
      "25년09월11일(Thursday) 09:30:00\n",
      "25년09월11일(Thursday) 09:30:00\n",
      "Thu Sep 11 09:30:00 2025\n"
     ]
    }
   ],
   "source": [
    "#날짜를 문자열로 전환\n",
    "print(\"{:%y년%m월%d일(%A) %H:%M:%S}\".format(thatday))\n",
    "print(thatday.strftime(\"%y년%m월%d일(%A) %H:%M:%S\"))\n",
    "print(thatday.ctime()) # ctime() : 사람이 읽기 쉬는 형태로 convert"
   ]
  },
  {
   "cell_type": "code",
   "execution_count": 25,
   "id": "ddcf07ab",
   "metadata": {},
   "outputs": [
    {
     "name": "stdout",
     "output_type": "stream",
     "text": [
      "2025-09-17 14:33:07.176662\n",
      "Wed Sep 17 14:33:07 2025\n",
      "2025년09월17일 PM 02:33:07\n"
     ]
    }
   ],
   "source": [
    "# 지금을 저장하는 datetime 객체 생성\n",
    "now = datetime.now()\n",
    "print(now)\n",
    "print(now.ctime())\n",
    "print(now.strftime(\"%Y년%m월%d일 %p %I:%M:%S\"))"
   ]
  },
  {
   "cell_type": "code",
   "execution_count": 26,
   "id": "f36d991d",
   "metadata": {},
   "outputs": [
    {
     "name": "stdout",
     "output_type": "stream",
     "text": [
      "6 days, 5:03:07.176662\n",
      "6\n"
     ]
    }
   ],
   "source": [
    "diff = now-thatday\n",
    "print(diff)\n",
    "print(diff.days)"
   ]
  },
  {
   "cell_type": "markdown",
   "id": "c4f78e97",
   "metadata": {},
   "source": [
    "## 7.2 날짜"
   ]
  },
  {
   "cell_type": "code",
   "execution_count": 27,
   "id": "00b58f37",
   "metadata": {},
   "outputs": [
    {
     "data": {
      "text/plain": [
       "datetime.date(2025, 9, 11)"
      ]
     },
     "execution_count": 27,
     "metadata": {},
     "output_type": "execute_result"
    }
   ],
   "source": [
    "# 특정한 날짜를 갖는 date 객체 생성\n",
    "someday = date(2025, 9, 11)\n",
    "someday"
   ]
  },
  {
   "cell_type": "code",
   "execution_count": 28,
   "id": "02d5f852",
   "metadata": {
    "scrolled": true
   },
   "outputs": [
    {
     "name": "stdout",
     "output_type": "stream",
     "text": [
      "2025-09-11\n",
      "2025년 09월 11일 00:00\n"
     ]
    }
   ],
   "source": [
    "print(someday)\n",
    "print(someday.strftime(\"%Y년 %m월 %d일 %H:%M\"))"
   ]
  },
  {
   "cell_type": "code",
   "execution_count": 30,
   "id": "3bbf9f74",
   "metadata": {},
   "outputs": [
    {
     "name": "stdout",
     "output_type": "stream",
     "text": [
      "True\n"
     ]
    }
   ],
   "source": [
    "# 오늘을 갖는 date 객체 생성\n",
    "today1 = date.today()\n",
    "today2 = datetime.now().date()\n",
    "print(today1 == today2)"
   ]
  },
  {
   "cell_type": "code",
   "execution_count": 31,
   "id": "e819296d",
   "metadata": {},
   "outputs": [
    {
     "name": "stdout",
     "output_type": "stream",
     "text": [
      "2025년09월17일 00:00\n",
      "2025년09월17일 00:00\n"
     ]
    }
   ],
   "source": [
    "print(today1.strftime(\"%Y년%m월%d일 %H:%M\"))\n",
    "print(today2.strftime(\"%Y년%m월%d일 %H:%M\"))"
   ]
  },
  {
   "cell_type": "code",
   "execution_count": 32,
   "id": "5bce4014",
   "metadata": {},
   "outputs": [
    {
     "name": "stdout",
     "output_type": "stream",
     "text": [
      "-6 days, 0:00:00\n",
      "-6\n"
     ]
    }
   ],
   "source": [
    "diff = someday - today1\n",
    "print(diff)\n",
    "print(diff.days)"
   ]
  },
  {
   "cell_type": "markdown",
   "id": "7cf46a97",
   "metadata": {},
   "source": [
    "## 7.3 시간"
   ]
  },
  {
   "cell_type": "code",
   "execution_count": 33,
   "id": "603290bf",
   "metadata": {},
   "outputs": [
    {
     "data": {
      "text/plain": [
       "datetime.time(14, 39)"
      ]
     },
     "execution_count": 33,
     "metadata": {},
     "output_type": "execute_result"
    }
   ],
   "source": [
    "# 특정한 시간을 저장하는 time 객체 생성\n",
    "t = time(14, 39, 0)\n",
    "t"
   ]
  },
  {
   "cell_type": "code",
   "execution_count": 34,
   "id": "a76af672",
   "metadata": {},
   "outputs": [
    {
     "name": "stdout",
     "output_type": "stream",
     "text": [
      "PM 02:39\n"
     ]
    }
   ],
   "source": [
    "# print(t.strftime(\"%Y년 %m월 %d일 %p %I:%M\"))\n",
    "print(t.strftime(\"%p %I:%M\"))"
   ]
  },
  {
   "cell_type": "code",
   "execution_count": 35,
   "id": "ca19f63f",
   "metadata": {},
   "outputs": [
    {
     "name": "stdout",
     "output_type": "stream",
     "text": [
      "15:21:28.478370\n"
     ]
    }
   ],
   "source": [
    "# 현재 시간\n",
    "nowtime = datetime.now().time()\n",
    "print(nowtime)"
   ]
  },
  {
   "cell_type": "markdown",
   "id": "f4995d50",
   "metadata": {},
   "source": [
    "# 8절.연습문제"
   ]
  },
  {
   "cell_type": "markdown",
   "id": "49633740",
   "metadata": {},
   "source": [
    "1.이름과 나이 변수를 다음 형식으로 출력하도록 format() 함수를 이용해 형식화하세요 [출력형식 : 홍길동님의 나이는 23 살입니다"
   ]
  },
  {
   "cell_type": "code",
   "execution_count": 36,
   "id": "59bfb3b7",
   "metadata": {},
   "outputs": [
    {
     "name": "stdout",
     "output_type": "stream",
     "text": [
      "홍길동님의 나이는 23살입니다.\n"
     ]
    }
   ],
   "source": [
    "_name = \"홍길동\"\n",
    "_age = \"23\"\n",
    "print(\"{}님의 나이는 {}살입니다.\".format( _name, _age))"
   ]
  },
  {
   "cell_type": "markdown",
   "id": "aff2b73d",
   "metadata": {},
   "source": [
    "2.두 정수를 입력받아 두 수의 덧셈 , 뺄셈 , 곱셈 , 나눗셈 , 몫 , 나머지를 출력하세요"
   ]
  },
  {
   "cell_type": "code",
   "execution_count": 37,
   "id": "d4a70e07",
   "metadata": {},
   "outputs": [
    {
     "name": "stdout",
     "output_type": "stream",
     "text": [
      "5\n",
      "2\n",
      "덧셈 : 7\n",
      "뺄셈 : 3\n",
      "곱셈 : 10\n",
      "나눗셈 : 2.5\n",
      "몫 : 2\n",
      "나머지 : 1\n"
     ]
    }
   ],
   "source": [
    "_x = int(input())\n",
    "_y = int(input())\n",
    "result = _x + _y\n",
    "print('덧셈 :', result )\n",
    "result = _x - _y\n",
    "print('뺄셈 :', result)\n",
    "result = _x * _y\n",
    "print('곱셈 :', result)\n",
    "result = _x / _y\n",
    "print('나눗셈 :', result)\n",
    "result = _x // _y\n",
    "print('몫 :', result)\n",
    "result = _x % _y\n",
    "print('나머지 :', result)"
   ]
  },
  {
   "cell_type": "markdown",
   "id": "5ad57587",
   "metadata": {},
   "source": [
    "3.문자열의 분리하기와 합치기 기능을 이용하여 ‘Hello 가 할당된 변수를 이용하여‘World 로 출력하세요"
   ]
  },
  {
   "cell_type": "code",
   "execution_count": 38,
   "id": "8c8a2766",
   "metadata": {},
   "outputs": [
    {
     "name": "stdout",
     "output_type": "stream",
     "text": [
      "World Hello\n"
     ]
    }
   ],
   "source": [
    "_target = \"Hello World\"\n",
    "_arr = _target.split()\n",
    "print(_arr[1] , _arr[0])"
   ]
  },
  {
   "cell_type": "markdown",
   "id": "5ae01528",
   "metadata": {},
   "source": [
    "4. x = ' abcdef ＇를 이용하여 bcdefa 로 출력하세요 문자 슬라이싱이용"
   ]
  },
  {
   "cell_type": "code",
   "execution_count": 50,
   "id": "f6c6c0d6",
   "metadata": {},
   "outputs": [
    {
     "name": "stdout",
     "output_type": "stream",
     "text": [
      "bcdefa\n"
     ]
    }
   ],
   "source": [
    "x = \" abcdef \"\n",
    "print( x[2:7:1],x[1:2:1],sep=\"\")"
   ]
  },
  {
   "cell_type": "markdown",
   "id": "77b1800f",
   "metadata": {},
   "source": [
    "5. x = 'abcdef' 를 이용하여 'fedcba' 로 출력하세요"
   ]
  },
  {
   "cell_type": "code",
   "execution_count": 53,
   "id": "bb47a5ce",
   "metadata": {},
   "outputs": [
    {
     "name": "stdout",
     "output_type": "stream",
     "text": [
      "['fedcba ']\n"
     ]
    }
   ],
   "source": [
    "x = \" abcdef\"\n",
    "print( [ x[::-1] ])"
   ]
  },
  {
   "cell_type": "markdown",
   "id": "6cd28a66",
   "metadata": {},
   "source": [
    "6.오늘의 온도를 섭씨온도로 입력받아 화씨 온도로 변환하는 프로그램을 작성하세요 . 화씨 온도는 소수점이 있을 경우만 두번째 자리까지 출력되고 , 소수점이하 값이 없는 경우 소수점을 출력하지 않도록 합니다 다음은 섭씨와 화씨의 변환 공식입니다.\n",
    "C 는 섭씨 ,F 는 화씨\n",
    "\n",
    "C = (F-32) / 1.8\n",
    "\n",
    "F = (C*1.8) + 32"
   ]
  },
  {
   "cell_type": "code",
   "execution_count": 104,
   "id": "747a8f56",
   "metadata": {},
   "outputs": [
    {
     "name": "stdout",
     "output_type": "stream",
     "text": [
      "섭씨 온도를 입력해주세요.:100\n",
      "[212]\n"
     ]
    }
   ],
   "source": [
    "_cc = input('섭씨 온도를 입력해주세요.:')\n",
    "\n",
    "_ccc = (int(_cc) * 1.8) +32\n",
    "\n",
    "if( _ccc%1 == 0 ):\n",
    "   print( \"[{:.0f}]\".format(_ccc) )\n",
    "else:\n",
    "   print( \"[{:2f}]\".format(_ccc) )\n",
    "    "
   ]
  },
  {
   "cell_type": "code",
   "execution_count": null,
   "id": "60049026",
   "metadata": {},
   "outputs": [],
   "source": [
    "7) 1, 2, 3"
   ]
  },
  {
   "cell_type": "code",
   "execution_count": 89,
   "id": "60a2d751",
   "metadata": {},
   "outputs": [
    {
     "name": "stdout",
     "output_type": "stream",
     "text": [
      "SeounSeoul\n"
     ]
    }
   ],
   "source": [
    "text = \"Seoul A001 - programming with python\"\n",
    "print(text[:4]+text[-1]+text.split()[0])\n",
    "SeounSeoul\n",
    "print(text[:4], text[-1], text.split()[0])\n",
    "Seou n Seoul"
   ]
  },
  {
   "cell_type": "code",
   "execution_count": null,
   "id": "5e3abe30",
   "metadata": {},
   "outputs": [],
   "source": [
    "9. 2"
   ]
  },
  {
   "cell_type": "code",
   "execution_count": 92,
   "id": "1e3360ac",
   "metadata": {},
   "outputs": [
    {
     "ename": "TypeError",
     "evalue": "unsupported operand type(s) for +: 'int' and 'str'",
     "output_type": "error",
     "traceback": [
      "\u001b[1;31m---------------------------------------------------------------------------\u001b[0m",
      "\u001b[1;31mTypeError\u001b[0m                                 Traceback (most recent call last)",
      "Cell \u001b[1;32mIn[92], line 3\u001b[0m\n\u001b[0;32m      1\u001b[0m x\u001b[38;5;241m=\u001b[39m \u001b[38;5;241m5\u001b[39m\n\u001b[0;32m      2\u001b[0m y\u001b[38;5;241m=\u001b[39m\u001b[38;5;124m\"\u001b[39m\u001b[38;5;124mJohn\u001b[39m\u001b[38;5;124m\"\u001b[39m\n\u001b[1;32m----> 3\u001b[0m \u001b[38;5;28mprint\u001b[39m(\u001b[43mx\u001b[49m\u001b[43m \u001b[49m\u001b[38;5;241;43m+\u001b[39;49m\u001b[43m \u001b[49m\u001b[43my\u001b[49m)\n",
      "\u001b[1;31mTypeError\u001b[0m: unsupported operand type(s) for +: 'int' and 'str'"
     ]
    }
   ],
   "source": [
    "x= 5\n",
    "y=\"John\"\n",
    "print(x + y)\n",
    "\n",
    "--- 형식오류"
   ]
  },
  {
   "cell_type": "code",
   "execution_count": 99,
   "id": "14f1fdd4",
   "metadata": {},
   "outputs": [
    {
     "data": {
      "text/plain": [
       "'나라'"
      ]
     },
     "execution_count": 99,
     "metadata": {},
     "output_type": "execute_result"
    }
   ],
   "source": [
    "str_ = \"우리 나라 대한 민국\"\n",
    "str_list = str_.split()\n",
    "str_list[1]"
   ]
  }
 ],
 "metadata": {
  "kernelspec": {
   "display_name": "Python 3 (ipykernel)",
   "language": "python",
   "name": "python3"
  },
  "language_info": {
   "codemirror_mode": {
    "name": "ipython",
    "version": 3
   },
   "file_extension": ".py",
   "mimetype": "text/x-python",
   "name": "python",
   "nbconvert_exporter": "python",
   "pygments_lexer": "ipython3",
   "version": "3.10.9"
  },
  "toc": {
   "base_numbering": 1,
   "nav_menu": {},
   "number_sections": false,
   "sideBar": true,
   "skip_h1_title": false,
   "title_cell": "Table of Contents",
   "title_sidebar": "Contents",
   "toc_cell": false,
   "toc_position": {
    "height": "calc(100% - 180px)",
    "left": "10px",
    "top": "150px",
    "width": "355.391px"
   },
   "toc_section_display": true,
   "toc_window_display": true
  }
 },
 "nbformat": 4,
 "nbformat_minor": 5
}
