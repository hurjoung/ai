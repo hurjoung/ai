{
 "cells": [
  {
   "cell_type": "code",
   "execution_count": 1,
   "id": "4c4e0661",
   "metadata": {},
   "outputs": [
    {
     "data": {
      "text/html": [
       "\n",
       "<style>\n",
       "div.container{width:90% !important;}\n",
       "div.cell.code_cell.rendered{width:100%;}\n",
       "div.input_prompt{padding:0px;}\n",
       "div.CodeMirror {font-family:Consolas; font-size:12pt;}\n",
       "div.text_cell_render.rendered_html{font-size:12pt;}\n",
       "div.output {font-size:12pt; font-weight:bold;}\n",
       "div.input {font-family:Consolas; font-size:12pt;}\n",
       "div.prompt {min-width:70px;}\n",
       "div#toc-wrapper{padding-top:120px;}\n",
       "div.text_cell_render ul li{font-size:12pt;padding:5px;}\n",
       "table.dataframe{font-size:12px;}\n",
       "</style>\n"
      ],
      "text/plain": [
       "<IPython.core.display.HTML object>"
      ]
     },
     "metadata": {},
     "output_type": "display_data"
    }
   ],
   "source": [
    "from IPython.display import display, HTML\n",
    "display(HTML(\"\"\"\n",
    "<style>\n",
    "div.container{width:90% !important;}\n",
    "div.cell.code_cell.rendered{width:100%;}\n",
    "div.input_prompt{padding:0px;}\n",
    "div.CodeMirror {font-family:Consolas; font-size:12pt;}\n",
    "div.text_cell_render.rendered_html{font-size:12pt;}\n",
    "div.output {font-size:12pt; font-weight:bold;}\n",
    "div.input {font-family:Consolas; font-size:12pt;}\n",
    "div.prompt {min-width:70px;}\n",
    "div#toc-wrapper{padding-top:120px;}\n",
    "div.text_cell_render ul li{font-size:12pt;padding:5px;}\n",
    "table.dataframe{font-size:12px;}\n",
    "</style>\n",
    "\"\"\"))"
   ]
  },
  {
   "cell_type": "markdown",
   "id": "fe079475",
   "metadata": {},
   "source": [
    "<b><font size=\"6\" color=\"red\">ch01. 파이썬 개요 및 환경 설정</font></b>\n",
    "# 1.마크다운\n",
    "# 2.주피터 노트북 사용법\n",
    "- shift_enter : 포커스된 셀이 실행, 커서는 다음셀로 이동\n",
    "\n",
    "- alt+enter : 포커스된 셀이 실행, 다음셀이 생성된 후, 커서는 다음셀로 이동\n",
    "\n",
    "- ctrl+enter : 포커스된 셀이 실행, 포커스 이동 없음\n",
    "\n",
    "- enter : 다시 편집 상태로  "
   ]
  },
  {
   "cell_type": "code",
   "execution_count": 7,
   "id": "0b76e173",
   "metadata": {},
   "outputs": [
    {
     "name": "stdout",
     "output_type": "stream",
     "text": [
      "hello python\n",
      "홍길동\n",
      "hello python\n",
      "홍길동\n"
     ]
    }
   ],
   "source": [
    "print('hello python')\n",
    "print('홍길동')\n",
    "print('hello python\\n홍길동')"
   ]
  },
  {
   "cell_type": "code",
   "execution_count": 12,
   "id": "1f558639",
   "metadata": {},
   "outputs": [
    {
     "name": "stdout",
     "output_type": "stream",
     "text": [
      "27\n",
      "252\n"
     ]
    }
   ],
   "source": [
    "age = 25\n",
    "duration = '2'\n",
    "print(age + int(duration))\n",
    "print(str(age) + duration)"
   ]
  },
  {
   "cell_type": "code",
   "execution_count": null,
   "id": "31e0296c",
   "metadata": {},
   "outputs": [],
   "source": [
    "#셀의 할당을 삭제할려면 del 또는 kernal restart"
   ]
  },
  {
   "cell_type": "markdown",
   "id": "876ffd47",
   "metadata": {},
   "source": [
    "# 3.ESC카 누르고\n",
    "- dd : 셀삭제\n",
    "- a : 윗셀 추가\n",
    "- b : 아래셋 추가\n",
    "- m : 마크다운 셀로 변경\n",
    "- y : 코드셀로 변경\n",
    "- h : 단축키 안내\n",
    "- o : 해당셀의 실행결과 접기/펴기"
   ]
  },
  {
   "cell_type": "code",
   "execution_count": 16,
   "id": "bbcd275a",
   "metadata": {},
   "outputs": [
    {
     "name": "stdout",
     "output_type": "stream",
     "text": [
      " C 드라이브의 볼륨에는 이름이 없습니다.\n",
      " 볼륨 일련 번호: A014-DCD6\n",
      "\n",
      " C:\\ai\\source\\01_python 디렉터리\n",
      "\n",
      "2025-09-12  오전 10:50    <DIR>          .\n",
      "2025-09-12  오전 10:50    <DIR>          ..\n",
      "2025-09-11  오후 05:38    <DIR>          .ipynb_checkpoints\n",
      "2025-09-12  오전 10:50             4,709 ch01_파이썬 개요 및 환경 설정.ipynb\n",
      "               1개 파일               4,709 바이트\n",
      "               3개 디렉터리  164,973,559,808 바이트 남음\n"
     ]
    }
   ],
   "source": [
    "#주피터에서 cmd명령어 수행\n",
    "!dir"
   ]
  },
  {
   "cell_type": "code",
   "execution_count": 18,
   "id": "2fac5cda",
   "metadata": {},
   "outputs": [
    {
     "name": "stdout",
     "output_type": "stream",
     "text": [
      " C 드라이브의 볼륨에는 이름이 없습니다.\n",
      " 볼륨 일련 번호: A014-DCD6\n",
      "\n",
      " C:\\ai\\source\\01_python 디렉터리\n",
      "\n",
      "2025-09-12  오전 10:52    <DIR>          .\n",
      "2025-09-12  오전 10:52    <DIR>          ..\n",
      "2025-09-11  오후 05:38    <DIR>          .ipynb_checkpoints\n",
      "2025-09-12  오전 10:52             5,550 ch01_파이썬 개요 및 환경 설정.ipynb\n",
      "               1개 파일               5,550 바이트\n",
      "               3개 디렉터리  165,026,185,216 바이트 남음\n"
     ]
    }
   ],
   "source": [
    "#주피터에서 자체 명령어\n",
    "%ls"
   ]
  },
  {
   "cell_type": "code",
   "execution_count": null,
   "id": "e9f959ae",
   "metadata": {},
   "outputs": [],
   "source": []
  },
  {
   "cell_type": "code",
   "execution_count": null,
   "id": "b1a7922b",
   "metadata": {},
   "outputs": [],
   "source": []
  },
  {
   "cell_type": "code",
   "execution_count": null,
   "id": "8ad8f354",
   "metadata": {},
   "outputs": [],
   "source": []
  },
  {
   "cell_type": "code",
   "execution_count": null,
   "id": "683af668",
   "metadata": {},
   "outputs": [],
   "source": []
  },
  {
   "cell_type": "code",
   "execution_count": null,
   "id": "f78b04e8",
   "metadata": {},
   "outputs": [],
   "source": []
  },
  {
   "cell_type": "code",
   "execution_count": null,
   "id": "23eda4a5",
   "metadata": {},
   "outputs": [],
   "source": []
  }
 ],
 "metadata": {
  "kernelspec": {
   "display_name": "Python 3 (ipykernel)",
   "language": "python",
   "name": "python3"
  },
  "language_info": {
   "codemirror_mode": {
    "name": "ipython",
    "version": 3
   },
   "file_extension": ".py",
   "mimetype": "text/x-python",
   "name": "python",
   "nbconvert_exporter": "python",
   "pygments_lexer": "ipython3",
   "version": "3.10.9"
  },
  "toc": {
   "base_numbering": 1,
   "nav_menu": {
    "height": "37px",
    "width": "160px"
   },
   "number_sections": false,
   "sideBar": true,
   "skip_h1_title": false,
   "title_cell": "Table of Contents",
   "title_sidebar": "Contents",
   "toc_cell": false,
   "toc_position": {
    "height": "calc(100% - 180px)",
    "left": "10px",
    "top": "150px",
    "width": "311.391px"
   },
   "toc_section_display": true,
   "toc_window_display": true
  }
 },
 "nbformat": 4,
 "nbformat_minor": 5
}
